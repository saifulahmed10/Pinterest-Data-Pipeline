{
 "cells": [
  {
   "cell_type": "code",
   "execution_count": 0,
   "metadata": {
    "application/vnd.databricks.v1+cell": {
     "cellMetadata": {
      "byteLimit": 2048000,
      "rowLimit": 10000
     },
     "inputWidgets": {},
     "nuid": "aa845c47-5221-4cc0-896b-251a45017f8e",
     "showTitle": false,
     "title": ""
    }
   },
   "outputs": [
    {
     "output_type": "display_data",
     "data": {
      "text/html": [
       "<style scoped>\n",
       "  .ansiout {\n",
       "    display: block;\n",
       "    unicode-bidi: embed;\n",
       "    white-space: pre-wrap;\n",
       "    word-wrap: break-word;\n",
       "    word-break: break-all;\n",
       "    font-family: \"Menlo\", \"Monaco\", \"Consolas\", \"Ubuntu Mono\", \"Source Code Pro\", monospace;\n",
       "    font-size: 13px;\n",
       "    color: #555;\n",
       "    margin-left: 4px;\n",
       "    line-height: 19px;\n",
       "  }\n",
       "</style>\n",
       "<div class=\"ansiout\"></div>"
      ]
     },
     "metadata": {
      "application/vnd.databricks.v1+output": {
       "addedWidgets": {},
       "arguments": {},
       "data": "<div class=\"ansiout\"></div>",
       "datasetInfos": [],
       "metadata": {},
       "removedWidgets": [],
       "type": "html"
      }
     },
     "output_type": "display_data"
    }
   ],
   "source": [
    "# pyspark functions\n",
    "from pyspark.sql.functions import *\n",
    "# URL processing\n",
    "import urllib\n"
   ]
  },
  {
   "cell_type": "code",
   "execution_count": 0,
   "metadata": {
    "application/vnd.databricks.v1+cell": {
     "cellMetadata": {
      "byteLimit": 2048000,
      "rowLimit": 10000
     },
     "inputWidgets": {},
     "nuid": "a9169f87-33e0-4438-b868-f035d32b063f",
     "showTitle": false,
     "title": ""
    }
   },
   "outputs": [
    {
     "output_type": "display_data",
     "data": {
      "text/html": [
       "<style scoped>\n",
       "  .ansiout {\n",
       "    display: block;\n",
       "    unicode-bidi: embed;\n",
       "    white-space: pre-wrap;\n",
       "    word-wrap: break-word;\n",
       "    word-break: break-all;\n",
       "    font-family: \"Menlo\", \"Monaco\", \"Consolas\", \"Ubuntu Mono\", \"Source Code Pro\", monospace;\n",
       "    font-size: 13px;\n",
       "    color: #555;\n",
       "    margin-left: 4px;\n",
       "    line-height: 19px;\n",
       "  }\n",
       "</style>\n",
       "<div class=\"ansiout\"></div>"
      ]
     },
     "metadata": {
      "application/vnd.databricks.v1+output": {
       "addedWidgets": {},
       "arguments": {},
       "data": "<div class=\"ansiout\"></div>",
       "datasetInfos": [],
       "metadata": {},
       "removedWidgets": [],
       "type": "html"
      }
     },
     "output_type": "display_data"
    },
    {
     "output_type": "display_data",
     "data": {
      "text/html": [
       "<style scoped>\n",
       "  .ansiout {\n",
       "    display: block;\n",
       "    unicode-bidi: embed;\n",
       "    white-space: pre-wrap;\n",
       "    word-wrap: break-word;\n",
       "    word-break: break-all;\n",
       "    font-family: \"Menlo\", \"Monaco\", \"Consolas\", \"Ubuntu Mono\", \"Source Code Pro\", monospace;\n",
       "    font-size: 13px;\n",
       "    color: #555;\n",
       "    margin-left: 4px;\n",
       "    line-height: 19px;\n",
       "  }\n",
       "</style>\n",
       "<div class=\"ansiout\"><span class=\"ansi-red-fg\">---------------------------------------------------------------------------</span>\n",
       "<span class=\"ansi-red-fg\">ExecutionError</span>                            Traceback (most recent call last)\n",
       "<span class=\"ansi-green-fg\">&lt;command-3819816579781016&gt;</span> in <span class=\"ansi-cyan-fg\">&lt;module&gt;</span>\n",
       "<span class=\"ansi-green-intense-fg ansi-bold\">     18</span> SOURCE_URL <span class=\"ansi-blue-fg\">=</span> <span class=\"ansi-blue-fg\">&#34;s3n://{0}:{1}@{2}&#34;</span><span class=\"ansi-blue-fg\">.</span>format<span class=\"ansi-blue-fg\">(</span>ACCESS_KEY<span class=\"ansi-blue-fg\">,</span> ENCODED_SECRET_KEY<span class=\"ansi-blue-fg\">,</span> AWS_S3_BUCKET<span class=\"ansi-blue-fg\">)</span>\n",
       "<span class=\"ansi-green-intense-fg ansi-bold\">     19</span> <span class=\"ansi-red-fg\"># Mount the drive</span>\n",
       "<span class=\"ansi-green-fg\">---&gt; 20</span><span class=\"ansi-red-fg\"> </span>dbutils<span class=\"ansi-blue-fg\">.</span>fs<span class=\"ansi-blue-fg\">.</span>mount<span class=\"ansi-blue-fg\">(</span>SOURCE_URL<span class=\"ansi-blue-fg\">,</span> MOUNT_NAME<span class=\"ansi-blue-fg\">)</span>\n",
       "<span class=\"ansi-green-intense-fg ansi-bold\">     21</span> \n",
       "<span class=\"ansi-green-intense-fg ansi-bold\">     22</span> display<span class=\"ansi-blue-fg\">(</span>dbutils<span class=\"ansi-blue-fg\">.</span>fs<span class=\"ansi-blue-fg\">.</span>ls<span class=\"ansi-blue-fg\">(</span><span class=\"ansi-blue-fg\">&#34;/mnt/saiful_bucket&#34;</span><span class=\"ansi-blue-fg\">)</span><span class=\"ansi-blue-fg\">)</span>\n",
       "\n",
       "<span class=\"ansi-green-fg\">/databricks/python_shell/dbruntime/dbutils.py</span> in <span class=\"ansi-cyan-fg\">f_with_exception_handling</span><span class=\"ansi-blue-fg\">(*args, **kwargs)</span>\n",
       "<span class=\"ansi-green-intense-fg ansi-bold\">    387</span>                     exc<span class=\"ansi-blue-fg\">.</span>__context__ <span class=\"ansi-blue-fg\">=</span> <span class=\"ansi-green-fg\">None</span>\n",
       "<span class=\"ansi-green-intense-fg ansi-bold\">    388</span>                     exc<span class=\"ansi-blue-fg\">.</span>__cause__ <span class=\"ansi-blue-fg\">=</span> <span class=\"ansi-green-fg\">None</span>\n",
       "<span class=\"ansi-green-fg\">--&gt; 389</span><span class=\"ansi-red-fg\">                     </span><span class=\"ansi-green-fg\">raise</span> exc\n",
       "<span class=\"ansi-green-intense-fg ansi-bold\">    390</span> \n",
       "<span class=\"ansi-green-intense-fg ansi-bold\">    391</span>             <span class=\"ansi-green-fg\">return</span> f_with_exception_handling\n",
       "\n",
       "<span class=\"ansi-red-fg\">ExecutionError</span>: An error occurred while calling o7025.mount.\n",
       ": java.rmi.RemoteException: java.lang.IllegalArgumentException: requirement failed: Directory already mounted: /mnt/saiful_bucket; nested exception is: \n",
       "\tjava.lang.IllegalArgumentException: requirement failed: Directory already mounted: /mnt/saiful_bucket\n",
       "\tat com.databricks.backend.daemon.data.client.DbfsClient.send0(DbfsClient.scala:128)\n",
       "\tat com.databricks.backend.daemon.data.client.DbfsClient.sendIdempotent(DbfsClient.scala:68)\n",
       "\tat com.databricks.backend.daemon.dbutils.DBUtilsCore.createOrUpdateMount(DBUtilsCore.scala:756)\n",
       "\tat com.databricks.backend.daemon.dbutils.DBUtilsCore.mount(DBUtilsCore.scala:776)\n",
       "\tat sun.reflect.NativeMethodAccessorImpl.invoke0(Native Method)\n",
       "\tat sun.reflect.NativeMethodAccessorImpl.invoke(NativeMethodAccessorImpl.java:62)\n",
       "\tat sun.reflect.DelegatingMethodAccessorImpl.invoke(DelegatingMethodAccessorImpl.java:43)\n",
       "\tat java.lang.reflect.Method.invoke(Method.java:498)\n",
       "\tat py4j.reflection.MethodInvoker.invoke(MethodInvoker.java:244)\n",
       "\tat py4j.reflection.ReflectionEngine.invoke(ReflectionEngine.java:380)\n",
       "\tat py4j.Gateway.invoke(Gateway.java:295)\n",
       "\tat py4j.commands.AbstractCommand.invokeMethod(AbstractCommand.java:132)\n",
       "\tat py4j.commands.CallCommand.execute(CallCommand.java:79)\n",
       "\tat py4j.GatewayConnection.run(GatewayConnection.java:251)\n",
       "\tat java.lang.Thread.run(Thread.java:750)\n",
       "Caused by: java.lang.IllegalArgumentException: requirement failed: Directory already mounted: /mnt/saiful_bucket\n",
       "\tat scala.Predef$.require(Predef.scala:281)\n",
       "\tat com.databricks.backend.daemon.data.server.DefaultMetadataManager.$anonfun$insertMount$1(MetadataManager.scala:704)\n",
       "\tat com.databricks.backend.daemon.data.server.DefaultMetadataManager.$anonfun$modifyAndVerify$2(MetadataManager.scala:1080)\n",
       "\tat scala.runtime.java8.JFunction0$mcV$sp.apply(JFunction0$mcV$sp.java:23)\n",
       "\tat com.databricks.backend.daemon.data.server.DefaultMetadataManager.withRetries(MetadataManager.scala:853)\n",
       "\tat com.databricks.backend.daemon.data.server.DefaultMetadataManager.modifyAndVerify(MetadataManager.scala:1069)\n",
       "\tat com.databricks.backend.daemon.data.server.DefaultMetadataManager.insertMount(MetadataManager.scala:712)\n",
       "\tat com.databricks.backend.daemon.data.server.handler.MountHandler.receive(MountHandler.scala:128)\n",
       "\tat com.databricks.backend.daemon.data.server.session.SessionContext.$anonfun$queryHandlers$1(SessionContext.scala:54)\n",
       "\tat com.databricks.backend.daemon.data.server.session.SessionContext.$anonfun$queryHandlers$1$adapted(SessionContext.scala:53)\n",
       "\tat scala.collection.immutable.List.foreach(List.scala:431)\n",
       "\tat com.databricks.backend.daemon.data.server.session.SessionContext.queryHandlers(SessionContext.scala:53)\n",
       "\tat com.databricks.backend.daemon.data.server.DbfsServerBackend$$anonfun$receive$4.$anonfun$applyOrElse$10(DbfsServerBackend.scala:407)\n",
       "\tat com.databricks.logging.UsageLogging.$anonfun$withAttributionContext$1(UsageLogging.scala:435)\n",
       "\tat scala.util.DynamicVariable.withValue(DynamicVariable.scala:62)\n",
       "\tat com.databricks.logging.AttributionContext$.withValue(AttributionContext.scala:216)\n",
       "\tat com.databricks.logging.UsageLogging.withAttributionContext(UsageLogging.scala:433)\n",
       "\tat com.databricks.logging.UsageLogging.withAttributionContext$(UsageLogging.scala:427)\n",
       "\tat com.databricks.rpc.ServerBackend.withAttributionContext(ServerBackend.scala:22)\n",
       "\tat com.databricks.logging.UsageLogging.withAttributionTags(UsageLogging.scala:481)\n",
       "\tat com.databricks.logging.UsageLogging.withAttributionTags$(UsageLogging.scala:464)\n",
       "\tat com.databricks.rpc.ServerBackend.withAttributionTags(ServerBackend.scala:22)\n",
       "\tat com.databricks.backend.daemon.data.server.DbfsServerBackend$$anonfun$receive$4.applyOrElse(DbfsServerBackend.scala:407)\n",
       "\tat com.databricks.backend.daemon.data.server.DbfsServerBackend$$anonfun$receive$4.applyOrElse(DbfsServerBackend.scala:327)\n",
       "\tat com.databricks.rpc.ServerBackend.$anonfun$internalReceive0$2(ServerBackend.scala:174)\n",
       "\tat com.databricks.rpc.ServerBackend$$anonfun$commonReceive$1.applyOrElse(ServerBackend.scala:200)\n",
       "\tat com.databricks.rpc.ServerBackend$$anonfun$commonReceive$1.applyOrElse(ServerBackend.scala:200)\n",
       "\tat com.databricks.rpc.ServerBackend.internalReceive0(ServerBackend.scala:171)\n",
       "\tat com.databricks.rpc.ServerBackend.$anonfun$internalReceive$1(ServerBackend.scala:147)\n",
       "\tat com.databricks.logging.UsageLogging.$anonfun$recordOperation$1(UsageLogging.scala:582)\n",
       "\tat com.databricks.logging.UsageLogging.executeThunkAndCaptureResultTags$1(UsageLogging.scala:685)\n",
       "\tat com.databricks.logging.UsageLogging.$anonfun$recordOperationWithResultTags$4(UsageLogging.scala:703)\n",
       "\tat com.databricks.logging.UsageLogging.$anonfun$withAttributionContext$1(UsageLogging.scala:435)\n",
       "\tat scala.util.DynamicVariable.withValue(DynamicVariable.scala:62)\n",
       "\tat com.databricks.logging.AttributionContext$.withValue(AttributionContext.scala:216)\n",
       "\tat com.databricks.logging.UsageLogging.withAttributionContext(UsageLogging.scala:433)\n",
       "\tat com.databricks.logging.UsageLogging.withAttributionContext$(UsageLogging.scala:427)\n",
       "\tat com.databricks.rpc.ServerBackend.withAttributionContext(ServerBackend.scala:22)\n",
       "\tat com.databricks.logging.UsageLogging.withAttributionTags(UsageLogging.scala:481)\n",
       "\tat com.databricks.logging.UsageLogging.withAttributionTags$(UsageLogging.scala:464)\n",
       "\tat com.databricks.rpc.ServerBackend.withAttributionTags(ServerBackend.scala:22)\n",
       "\tat com.databricks.logging.UsageLogging.recordOperationWithResultTags(UsageLogging.scala:680)\n",
       "\tat com.databricks.logging.UsageLogging.recordOperationWithResultTags$(UsageLogging.scala:591)\n",
       "\tat com.databricks.rpc.ServerBackend.recordOperationWithResultTags(ServerBackend.scala:22)\n",
       "\tat com.databricks.logging.UsageLogging.recordOperation(UsageLogging.scala:582)\n",
       "\tat com.databricks.logging.UsageLogging.recordOperation$(UsageLogging.scala:551)\n",
       "\tat com.databricks.rpc.ServerBackend.recordOperation(ServerBackend.scala:22)\n",
       "\tat com.databricks.rpc.ServerBackend.internalReceive(ServerBackend.scala:147)\n",
       "\tat com.databricks.rpc.JettyServer$RequestManager.handleRPC(JettyServer.scala:1021)\n",
       "\tat com.databricks.rpc.JettyServer$RequestManager.handleRequestAndRespond(JettyServer.scala:942)\n",
       "\tat com.databricks.rpc.JettyServer$RequestManager.$anonfun$handleHttp$6(JettyServer.scala:546)\n",
       "\tat com.databricks.rpc.JettyServer$RequestManager.$anonfun$handleHttp$6$adapted(JettyServer.scala:515)\n",
       "\tat com.databricks.logging.activity.ActivityContextFactory$.$anonfun$withActivityInternal$4(ActivityContextFactory.scala:483)\n",
       "\tat com.databricks.logging.UsageLogging.$anonfun$withAttributionContext$1(UsageLogging.scala:435)\n",
       "\tat scala.util.DynamicVariable.withValue(DynamicVariable.scala:62)\n",
       "\tat com.databricks.logging.AttributionContext$.withValue(AttributionContext.scala:216)\n",
       "\tat com.databricks.logging.UsageLogging.withAttributionContext(UsageLogging.scala:433)\n",
       "\tat com.databricks.logging.UsageLogging.withAttributionContext$(UsageLogging.scala:427)\n",
       "\tat com.databricks.logging.activity.ActivityContextFactory$.withAttributionContext(ActivityContextFactory.scala:58)\n",
       "\tat com.databricks.logging.activity.ActivityContextFactory$.$anonfun$withActivityInternal$1(ActivityContextFactory.scala:483)\n",
       "\tat com.databricks.context.integrity.IntegrityCheckContext$ThreadLocalStorage$.withValue(IntegrityCheckContext.scala:75)\n",
       "\tat com.databricks.logging.activity.ActivityContextFactory$.withActivityInternal(ActivityContextFactory.scala:458)\n",
       "\tat com.databricks.logging.activity.ActivityContextFactory$.withServiceRequestActivity(ActivityContextFactory.scala:160)\n",
       "\tat com.databricks.rpc.JettyServer$RequestManager.handleHttp(JettyServer.scala:515)\n",
       "\tat com.databricks.rpc.JettyServer$RequestManager.doPost(JettyServer.scala:405)\n",
       "\tat javax.servlet.http.HttpServlet.service(HttpServlet.java:665)\n",
       "\tat com.databricks.rpc.HttpServletWithPatch.service(HttpServletWithPatch.scala:33)\n",
       "\tat javax.servlet.http.HttpServlet.service(HttpServlet.java:750)\n",
       "\tat org.eclipse.jetty.servlet.ServletHolder.handle(ServletHolder.java:799)\n",
       "\tat org.eclipse.jetty.servlet.ServletHandler.doHandle(ServletHandler.java:554)\n",
       "\tat org.eclipse.jetty.server.handler.ScopedHandler.nextScope(ScopedHandler.java:190)\n",
       "\tat org.eclipse.jetty.servlet.ServletHandler.doScope(ServletHandler.java:505)\n",
       "\tat org.eclipse.jetty.server.handler.ScopedHandler.handle(ScopedHandler.java:141)\n",
       "\tat org.eclipse.jetty.server.handler.HandlerWrapper.handle(HandlerWrapper.java:127)\n",
       "\tat org.eclipse.jetty.server.Server.handle(Server.java:516)\n",
       "\tat org.eclipse.jetty.server.HttpChannel.lambda$handle$1(HttpChannel.java:487)\n",
       "\tat org.eclipse.jetty.server.HttpChannel.dispatch(HttpChannel.java:732)\n",
       "\tat org.eclipse.jetty.server.HttpChannel.handle(HttpChannel.java:479)\n",
       "\tat org.eclipse.jetty.server.HttpConnection.onFillable(HttpConnection.java:277)\n",
       "\tat org.eclipse.jetty.io.AbstractConnection$ReadCallback.succeeded(AbstractConnection.java:311)\n",
       "\tat org.eclipse.jetty.io.FillInterest.fillable(FillInterest.java:105)\n",
       "\tat org.eclipse.jetty.io.ChannelEndPoint$1.run(ChannelEndPoint.java:104)\n",
       "\tat org.eclipse.jetty.util.thread.strategy.EatWhatYouKill.runTask(EatWhatYouKill.java:338)\n",
       "\tat org.eclipse.jetty.util.thread.strategy.EatWhatYouKill.doProduce(EatWhatYouKill.java:315)\n",
       "\tat org.eclipse.jetty.util.thread.strategy.EatWhatYouKill.tryProduce(EatWhatYouKill.java:173)\n",
       "\tat org.eclipse.jetty.util.thread.strategy.EatWhatYouKill.run(EatWhatYouKill.java:131)\n",
       "\tat org.eclipse.jetty.util.thread.ReservedThreadExecutor$ReservedThread.run(ReservedThreadExecutor.java:409)\n",
       "\tat com.databricks.rpc.InstrumentedQueuedThreadPool$$anon$1.$anonfun$run$4(InstrumentedQueuedThreadPool.scala:104)\n",
       "\tat scala.runtime.java8.JFunction0$mcV$sp.apply(JFunction0$mcV$sp.java:23)\n",
       "\tat com.databricks.logging.UsageLogging.withAttributionContext(UsageLogging.scala:429)\n",
       "\tat com.databricks.logging.UsageLogging.withAttributionContext$(UsageLogging.scala:427)\n",
       "\tat com.databricks.rpc.InstrumentedQueuedThreadPool.withAttributionContext(InstrumentedQueuedThreadPool.scala:47)\n",
       "\tat com.databricks.rpc.InstrumentedQueuedThreadPool$$anon$1.$anonfun$run$1(InstrumentedQueuedThreadPool.scala:104)\n",
       "\tat scala.runtime.java8.JFunction0$mcV$sp.apply(JFunction0$mcV$sp.java:23)\n",
       "\tat com.databricks.instrumentation.QueuedThreadPoolInstrumenter.trackActiveThreads(QueuedThreadPoolInstrumenter.scala:67)\n",
       "\tat com.databricks.instrumentation.QueuedThreadPoolInstrumenter.trackActiveThreads$(QueuedThreadPoolInstrumenter.scala:64)\n",
       "\tat com.databricks.rpc.InstrumentedQueuedThreadPool.trackActiveThreads(InstrumentedQueuedThreadPool.scala:47)\n",
       "\tat com.databricks.rpc.InstrumentedQueuedThreadPool$$anon$1.run(InstrumentedQueuedThreadPool.scala:86)\n",
       "\tat org.eclipse.jetty.util.thread.QueuedThreadPool.runJob(QueuedThreadPool.java:883)\n",
       "\tat org.eclipse.jetty.util.thread.QueuedThreadPool$Runner.run(QueuedThreadPool.java:1034)\n",
       "\tat java.lang.Thread.run(Thread.java:840)\n",
       "</div>"
      ]
     },
     "metadata": {
      "application/vnd.databricks.v1+output": {
       "arguments": {},
       "data": "<div class=\"ansiout\"><span class=\"ansi-red-fg\">---------------------------------------------------------------------------</span>\n<span class=\"ansi-red-fg\">ExecutionError</span>                            Traceback (most recent call last)\n<span class=\"ansi-green-fg\">&lt;command-3819816579781016&gt;</span> in <span class=\"ansi-cyan-fg\">&lt;module&gt;</span>\n<span class=\"ansi-green-intense-fg ansi-bold\">     18</span> SOURCE_URL <span class=\"ansi-blue-fg\">=</span> <span class=\"ansi-blue-fg\">&#34;s3n://{0}:{1}@{2}&#34;</span><span class=\"ansi-blue-fg\">.</span>format<span class=\"ansi-blue-fg\">(</span>ACCESS_KEY<span class=\"ansi-blue-fg\">,</span> ENCODED_SECRET_KEY<span class=\"ansi-blue-fg\">,</span> AWS_S3_BUCKET<span class=\"ansi-blue-fg\">)</span>\n<span class=\"ansi-green-intense-fg ansi-bold\">     19</span> <span class=\"ansi-red-fg\"># Mount the drive</span>\n<span class=\"ansi-green-fg\">---&gt; 20</span><span class=\"ansi-red-fg\"> </span>dbutils<span class=\"ansi-blue-fg\">.</span>fs<span class=\"ansi-blue-fg\">.</span>mount<span class=\"ansi-blue-fg\">(</span>SOURCE_URL<span class=\"ansi-blue-fg\">,</span> MOUNT_NAME<span class=\"ansi-blue-fg\">)</span>\n<span class=\"ansi-green-intense-fg ansi-bold\">     21</span> \n<span class=\"ansi-green-intense-fg ansi-bold\">     22</span> display<span class=\"ansi-blue-fg\">(</span>dbutils<span class=\"ansi-blue-fg\">.</span>fs<span class=\"ansi-blue-fg\">.</span>ls<span class=\"ansi-blue-fg\">(</span><span class=\"ansi-blue-fg\">&#34;/mnt/saiful_bucket&#34;</span><span class=\"ansi-blue-fg\">)</span><span class=\"ansi-blue-fg\">)</span>\n\n<span class=\"ansi-green-fg\">/databricks/python_shell/dbruntime/dbutils.py</span> in <span class=\"ansi-cyan-fg\">f_with_exception_handling</span><span class=\"ansi-blue-fg\">(*args, **kwargs)</span>\n<span class=\"ansi-green-intense-fg ansi-bold\">    387</span>                     exc<span class=\"ansi-blue-fg\">.</span>__context__ <span class=\"ansi-blue-fg\">=</span> <span class=\"ansi-green-fg\">None</span>\n<span class=\"ansi-green-intense-fg ansi-bold\">    388</span>                     exc<span class=\"ansi-blue-fg\">.</span>__cause__ <span class=\"ansi-blue-fg\">=</span> <span class=\"ansi-green-fg\">None</span>\n<span class=\"ansi-green-fg\">--&gt; 389</span><span class=\"ansi-red-fg\">                     </span><span class=\"ansi-green-fg\">raise</span> exc\n<span class=\"ansi-green-intense-fg ansi-bold\">    390</span> \n<span class=\"ansi-green-intense-fg ansi-bold\">    391</span>             <span class=\"ansi-green-fg\">return</span> f_with_exception_handling\n\n<span class=\"ansi-red-fg\">ExecutionError</span>: An error occurred while calling o7025.mount.\n: java.rmi.RemoteException: java.lang.IllegalArgumentException: requirement failed: Directory already mounted: /mnt/saiful_bucket; nested exception is: \n\tjava.lang.IllegalArgumentException: requirement failed: Directory already mounted: /mnt/saiful_bucket\n\tat com.databricks.backend.daemon.data.client.DbfsClient.send0(DbfsClient.scala:128)\n\tat com.databricks.backend.daemon.data.client.DbfsClient.sendIdempotent(DbfsClient.scala:68)\n\tat com.databricks.backend.daemon.dbutils.DBUtilsCore.createOrUpdateMount(DBUtilsCore.scala:756)\n\tat com.databricks.backend.daemon.dbutils.DBUtilsCore.mount(DBUtilsCore.scala:776)\n\tat sun.reflect.NativeMethodAccessorImpl.invoke0(Native Method)\n\tat sun.reflect.NativeMethodAccessorImpl.invoke(NativeMethodAccessorImpl.java:62)\n\tat sun.reflect.DelegatingMethodAccessorImpl.invoke(DelegatingMethodAccessorImpl.java:43)\n\tat java.lang.reflect.Method.invoke(Method.java:498)\n\tat py4j.reflection.MethodInvoker.invoke(MethodInvoker.java:244)\n\tat py4j.reflection.ReflectionEngine.invoke(ReflectionEngine.java:380)\n\tat py4j.Gateway.invoke(Gateway.java:295)\n\tat py4j.commands.AbstractCommand.invokeMethod(AbstractCommand.java:132)\n\tat py4j.commands.CallCommand.execute(CallCommand.java:79)\n\tat py4j.GatewayConnection.run(GatewayConnection.java:251)\n\tat java.lang.Thread.run(Thread.java:750)\nCaused by: java.lang.IllegalArgumentException: requirement failed: Directory already mounted: /mnt/saiful_bucket\n\tat scala.Predef$.require(Predef.scala:281)\n\tat com.databricks.backend.daemon.data.server.DefaultMetadataManager.$anonfun$insertMount$1(MetadataManager.scala:704)\n\tat com.databricks.backend.daemon.data.server.DefaultMetadataManager.$anonfun$modifyAndVerify$2(MetadataManager.scala:1080)\n\tat scala.runtime.java8.JFunction0$mcV$sp.apply(JFunction0$mcV$sp.java:23)\n\tat com.databricks.backend.daemon.data.server.DefaultMetadataManager.withRetries(MetadataManager.scala:853)\n\tat com.databricks.backend.daemon.data.server.DefaultMetadataManager.modifyAndVerify(MetadataManager.scala:1069)\n\tat com.databricks.backend.daemon.data.server.DefaultMetadataManager.insertMount(MetadataManager.scala:712)\n\tat com.databricks.backend.daemon.data.server.handler.MountHandler.receive(MountHandler.scala:128)\n\tat com.databricks.backend.daemon.data.server.session.SessionContext.$anonfun$queryHandlers$1(SessionContext.scala:54)\n\tat com.databricks.backend.daemon.data.server.session.SessionContext.$anonfun$queryHandlers$1$adapted(SessionContext.scala:53)\n\tat scala.collection.immutable.List.foreach(List.scala:431)\n\tat com.databricks.backend.daemon.data.server.session.SessionContext.queryHandlers(SessionContext.scala:53)\n\tat com.databricks.backend.daemon.data.server.DbfsServerBackend$$anonfun$receive$4.$anonfun$applyOrElse$10(DbfsServerBackend.scala:407)\n\tat com.databricks.logging.UsageLogging.$anonfun$withAttributionContext$1(UsageLogging.scala:435)\n\tat scala.util.DynamicVariable.withValue(DynamicVariable.scala:62)\n\tat com.databricks.logging.AttributionContext$.withValue(AttributionContext.scala:216)\n\tat com.databricks.logging.UsageLogging.withAttributionContext(UsageLogging.scala:433)\n\tat com.databricks.logging.UsageLogging.withAttributionContext$(UsageLogging.scala:427)\n\tat com.databricks.rpc.ServerBackend.withAttributionContext(ServerBackend.scala:22)\n\tat com.databricks.logging.UsageLogging.withAttributionTags(UsageLogging.scala:481)\n\tat com.databricks.logging.UsageLogging.withAttributionTags$(UsageLogging.scala:464)\n\tat com.databricks.rpc.ServerBackend.withAttributionTags(ServerBackend.scala:22)\n\tat com.databricks.backend.daemon.data.server.DbfsServerBackend$$anonfun$receive$4.applyOrElse(DbfsServerBackend.scala:407)\n\tat com.databricks.backend.daemon.data.server.DbfsServerBackend$$anonfun$receive$4.applyOrElse(DbfsServerBackend.scala:327)\n\tat com.databricks.rpc.ServerBackend.$anonfun$internalReceive0$2(ServerBackend.scala:174)\n\tat com.databricks.rpc.ServerBackend$$anonfun$commonReceive$1.applyOrElse(ServerBackend.scala:200)\n\tat com.databricks.rpc.ServerBackend$$anonfun$commonReceive$1.applyOrElse(ServerBackend.scala:200)\n\tat com.databricks.rpc.ServerBackend.internalReceive0(ServerBackend.scala:171)\n\tat com.databricks.rpc.ServerBackend.$anonfun$internalReceive$1(ServerBackend.scala:147)\n\tat com.databricks.logging.UsageLogging.$anonfun$recordOperation$1(UsageLogging.scala:582)\n\tat com.databricks.logging.UsageLogging.executeThunkAndCaptureResultTags$1(UsageLogging.scala:685)\n\tat com.databricks.logging.UsageLogging.$anonfun$recordOperationWithResultTags$4(UsageLogging.scala:703)\n\tat com.databricks.logging.UsageLogging.$anonfun$withAttributionContext$1(UsageLogging.scala:435)\n\tat scala.util.DynamicVariable.withValue(DynamicVariable.scala:62)\n\tat com.databricks.logging.AttributionContext$.withValue(AttributionContext.scala:216)\n\tat com.databricks.logging.UsageLogging.withAttributionContext(UsageLogging.scala:433)\n\tat com.databricks.logging.UsageLogging.withAttributionContext$(UsageLogging.scala:427)\n\tat com.databricks.rpc.ServerBackend.withAttributionContext(ServerBackend.scala:22)\n\tat com.databricks.logging.UsageLogging.withAttributionTags(UsageLogging.scala:481)\n\tat com.databricks.logging.UsageLogging.withAttributionTags$(UsageLogging.scala:464)\n\tat com.databricks.rpc.ServerBackend.withAttributionTags(ServerBackend.scala:22)\n\tat com.databricks.logging.UsageLogging.recordOperationWithResultTags(UsageLogging.scala:680)\n\tat com.databricks.logging.UsageLogging.recordOperationWithResultTags$(UsageLogging.scala:591)\n\tat com.databricks.rpc.ServerBackend.recordOperationWithResultTags(ServerBackend.scala:22)\n\tat com.databricks.logging.UsageLogging.recordOperation(UsageLogging.scala:582)\n\tat com.databricks.logging.UsageLogging.recordOperation$(UsageLogging.scala:551)\n\tat com.databricks.rpc.ServerBackend.recordOperation(ServerBackend.scala:22)\n\tat com.databricks.rpc.ServerBackend.internalReceive(ServerBackend.scala:147)\n\tat com.databricks.rpc.JettyServer$RequestManager.handleRPC(JettyServer.scala:1021)\n\tat com.databricks.rpc.JettyServer$RequestManager.handleRequestAndRespond(JettyServer.scala:942)\n\tat com.databricks.rpc.JettyServer$RequestManager.$anonfun$handleHttp$6(JettyServer.scala:546)\n\tat com.databricks.rpc.JettyServer$RequestManager.$anonfun$handleHttp$6$adapted(JettyServer.scala:515)\n\tat com.databricks.logging.activity.ActivityContextFactory$.$anonfun$withActivityInternal$4(ActivityContextFactory.scala:483)\n\tat com.databricks.logging.UsageLogging.$anonfun$withAttributionContext$1(UsageLogging.scala:435)\n\tat scala.util.DynamicVariable.withValue(DynamicVariable.scala:62)\n\tat com.databricks.logging.AttributionContext$.withValue(AttributionContext.scala:216)\n\tat com.databricks.logging.UsageLogging.withAttributionContext(UsageLogging.scala:433)\n\tat com.databricks.logging.UsageLogging.withAttributionContext$(UsageLogging.scala:427)\n\tat com.databricks.logging.activity.ActivityContextFactory$.withAttributionContext(ActivityContextFactory.scala:58)\n\tat com.databricks.logging.activity.ActivityContextFactory$.$anonfun$withActivityInternal$1(ActivityContextFactory.scala:483)\n\tat com.databricks.context.integrity.IntegrityCheckContext$ThreadLocalStorage$.withValue(IntegrityCheckContext.scala:75)\n\tat com.databricks.logging.activity.ActivityContextFactory$.withActivityInternal(ActivityContextFactory.scala:458)\n\tat com.databricks.logging.activity.ActivityContextFactory$.withServiceRequestActivity(ActivityContextFactory.scala:160)\n\tat com.databricks.rpc.JettyServer$RequestManager.handleHttp(JettyServer.scala:515)\n\tat com.databricks.rpc.JettyServer$RequestManager.doPost(JettyServer.scala:405)\n\tat javax.servlet.http.HttpServlet.service(HttpServlet.java:665)\n\tat com.databricks.rpc.HttpServletWithPatch.service(HttpServletWithPatch.scala:33)\n\tat javax.servlet.http.HttpServlet.service(HttpServlet.java:750)\n\tat org.eclipse.jetty.servlet.ServletHolder.handle(ServletHolder.java:799)\n\tat org.eclipse.jetty.servlet.ServletHandler.doHandle(ServletHandler.java:554)\n\tat org.eclipse.jetty.server.handler.ScopedHandler.nextScope(ScopedHandler.java:190)\n\tat org.eclipse.jetty.servlet.ServletHandler.doScope(ServletHandler.java:505)\n\tat org.eclipse.jetty.server.handler.ScopedHandler.handle(ScopedHandler.java:141)\n\tat org.eclipse.jetty.server.handler.HandlerWrapper.handle(HandlerWrapper.java:127)\n\tat org.eclipse.jetty.server.Server.handle(Server.java:516)\n\tat org.eclipse.jetty.server.HttpChannel.lambda$handle$1(HttpChannel.java:487)\n\tat org.eclipse.jetty.server.HttpChannel.dispatch(HttpChannel.java:732)\n\tat org.eclipse.jetty.server.HttpChannel.handle(HttpChannel.java:479)\n\tat org.eclipse.jetty.server.HttpConnection.onFillable(HttpConnection.java:277)\n\tat org.eclipse.jetty.io.AbstractConnection$ReadCallback.succeeded(AbstractConnection.java:311)\n\tat org.eclipse.jetty.io.FillInterest.fillable(FillInterest.java:105)\n\tat org.eclipse.jetty.io.ChannelEndPoint$1.run(ChannelEndPoint.java:104)\n\tat org.eclipse.jetty.util.thread.strategy.EatWhatYouKill.runTask(EatWhatYouKill.java:338)\n\tat org.eclipse.jetty.util.thread.strategy.EatWhatYouKill.doProduce(EatWhatYouKill.java:315)\n\tat org.eclipse.jetty.util.thread.strategy.EatWhatYouKill.tryProduce(EatWhatYouKill.java:173)\n\tat org.eclipse.jetty.util.thread.strategy.EatWhatYouKill.run(EatWhatYouKill.java:131)\n\tat org.eclipse.jetty.util.thread.ReservedThreadExecutor$ReservedThread.run(ReservedThreadExecutor.java:409)\n\tat com.databricks.rpc.InstrumentedQueuedThreadPool$$anon$1.$anonfun$run$4(InstrumentedQueuedThreadPool.scala:104)\n\tat scala.runtime.java8.JFunction0$mcV$sp.apply(JFunction0$mcV$sp.java:23)\n\tat com.databricks.logging.UsageLogging.withAttributionContext(UsageLogging.scala:429)\n\tat com.databricks.logging.UsageLogging.withAttributionContext$(UsageLogging.scala:427)\n\tat com.databricks.rpc.InstrumentedQueuedThreadPool.withAttributionContext(InstrumentedQueuedThreadPool.scala:47)\n\tat com.databricks.rpc.InstrumentedQueuedThreadPool$$anon$1.$anonfun$run$1(InstrumentedQueuedThreadPool.scala:104)\n\tat scala.runtime.java8.JFunction0$mcV$sp.apply(JFunction0$mcV$sp.java:23)\n\tat com.databricks.instrumentation.QueuedThreadPoolInstrumenter.trackActiveThreads(QueuedThreadPoolInstrumenter.scala:67)\n\tat com.databricks.instrumentation.QueuedThreadPoolInstrumenter.trackActiveThreads$(QueuedThreadPoolInstrumenter.scala:64)\n\tat com.databricks.rpc.InstrumentedQueuedThreadPool.trackActiveThreads(InstrumentedQueuedThreadPool.scala:47)\n\tat com.databricks.rpc.InstrumentedQueuedThreadPool$$anon$1.run(InstrumentedQueuedThreadPool.scala:86)\n\tat org.eclipse.jetty.util.thread.QueuedThreadPool.runJob(QueuedThreadPool.java:883)\n\tat org.eclipse.jetty.util.thread.QueuedThreadPool$Runner.run(QueuedThreadPool.java:1034)\n\tat java.lang.Thread.run(Thread.java:840)\n</div>",
       "errorSummary": "java.rmi.RemoteException: java.lang.IllegalArgumentException: requirement failed: Directory already mounted: /mnt/saiful_bucket; nested exception is: ",
       "errorTraceType": "html",
       "metadata": {},
       "type": "ipynbError"
      }
     },
     "output_type": "display_data"
    }
   ],
   "source": [
    "# Define the path to the Delta table\n",
    "delta_table_path = \"dbfs:/user/hive/warehouse/authentication_credentials\"\n",
    "\n",
    "# Read the Delta table to a Spark DataFrame\n",
    "aws_keys_df = spark.read.format(\"delta\").load(delta_table_path)\n",
    "\n",
    "# Get the AWS access key and secret key from the spark dataframe\n",
    "ACCESS_KEY = aws_keys_df.select('Access key ID').collect()[0]['Access key ID']\n",
    "SECRET_KEY = aws_keys_df.select('Secret access key').collect()[0]['Secret access key']\n",
    "# Encode the secrete key\n",
    "ENCODED_SECRET_KEY = urllib.parse.quote(string=SECRET_KEY, safe=\"\")\n",
    "\n",
    "# AWS S3 bucket name\n",
    "AWS_S3_BUCKET = \"user-1279c94681db-bucket\"\n",
    "# Mount name for the bucket\n",
    "MOUNT_NAME = \"/mnt/saiful_bucket\"\n",
    "# Source url\n",
    "SOURCE_URL = \"s3n://{0}:{1}@{2}\".format(ACCESS_KEY, ENCODED_SECRET_KEY, AWS_S3_BUCKET)\n",
    "# Mount the drive\n",
    "dbutils.fs.mount(SOURCE_URL, MOUNT_NAME)\n"
   ]
  },
  {
   "cell_type": "code",
   "execution_count": 0,
   "metadata": {
    "application/vnd.databricks.v1+cell": {
     "cellMetadata": {
      "byteLimit": 2048000,
      "rowLimit": 10000
     },
     "inputWidgets": {},
     "nuid": "c8cfdce1-1f93-4413-a5c0-cff200b02fa0",
     "showTitle": false,
     "title": ""
    }
   },
   "outputs": [
    {
     "output_type": "display_data",
     "data": {
      "text/html": [
       "<style scoped>\n",
       "  .table-result-container {\n",
       "    max-height: 300px;\n",
       "    overflow: auto;\n",
       "  }\n",
       "  table, th, td {\n",
       "    border: 1px solid black;\n",
       "    border-collapse: collapse;\n",
       "  }\n",
       "  th, td {\n",
       "    padding: 5px;\n",
       "  }\n",
       "  th {\n",
       "    text-align: left;\n",
       "  }\n",
       "</style><div class='table-result-container'><table class='table-result'><thead style='background-color: white'><tr><th>path</th><th>name</th><th>size</th><th>modificationTime</th></tr></thead><tbody><tr><td>dbfs:/mnt/saiful_bucket/kafka-connect-s3/</td><td>kafka-connect-s3/</td><td>0</td><td>1711366815271</td></tr><tr><td>dbfs:/mnt/saiful_bucket/topics/</td><td>topics/</td><td>0</td><td>1711366815271</td></tr></tbody></table></div>"
      ]
     },
     "metadata": {
      "application/vnd.databricks.v1+output": {
       "addedWidgets": {},
       "aggData": [],
       "aggError": "",
       "aggOverflow": false,
       "aggSchema": [],
       "aggSeriesLimitReached": false,
       "aggType": "",
       "arguments": {},
       "columnCustomDisplayInfos": {},
       "data": [
        [
         "dbfs:/mnt/saiful_bucket/kafka-connect-s3/",
         "kafka-connect-s3/",
         0,
         1711366815271
        ],
        [
         "dbfs:/mnt/saiful_bucket/topics/",
         "topics/",
         0,
         1711366815271
        ]
       ],
       "datasetInfos": [],
       "dbfsResultPath": null,
       "isJsonSchema": true,
       "metadata": {},
       "overflow": false,
       "plotOptions": {
        "customPlotOptions": {},
        "displayType": "table",
        "pivotAggregation": null,
        "pivotColumns": null,
        "xColumns": null,
        "yColumns": null
       },
       "removedWidgets": [],
       "schema": [
        {
         "metadata": "{}",
         "name": "path",
         "type": "\"string\""
        },
        {
         "metadata": "{}",
         "name": "name",
         "type": "\"string\""
        },
        {
         "metadata": "{}",
         "name": "size",
         "type": "\"long\""
        },
        {
         "metadata": "{}",
         "name": "modificationTime",
         "type": "\"long\""
        }
       ],
       "type": "table"
      }
     },
     "output_type": "display_data"
    }
   ],
   "source": [
    "display(dbutils.fs.ls(\"/mnt/saiful_bucket\"))"
   ]
  },
  {
   "cell_type": "code",
   "execution_count": 0,
   "metadata": {
    "application/vnd.databricks.v1+cell": {
     "cellMetadata": {
      "byteLimit": 2048000,
      "implicitDf": true,
      "rowLimit": 10000
     },
     "inputWidgets": {},
     "nuid": "554d9d31-d0c3-47c5-9e7f-45fceaeb25d2",
     "showTitle": false,
     "title": ""
    }
   },
   "outputs": [
    {
     "output_type": "display_data",
     "data": {
      "text/html": [
       "<style scoped>\n",
       "  .table-result-container {\n",
       "    max-height: 300px;\n",
       "    overflow: auto;\n",
       "  }\n",
       "  table, th, td {\n",
       "    border: 1px solid black;\n",
       "    border-collapse: collapse;\n",
       "  }\n",
       "  th, td {\n",
       "    padding: 5px;\n",
       "  }\n",
       "  th {\n",
       "    text-align: left;\n",
       "  }\n",
       "</style><div class='table-result-container'><table class='table-result'><thead style='background-color: white'><tr><th>key</th><th>value</th></tr></thead><tbody><tr><td>spark.databricks.delta.formatCheck.enabled</td><td>false</td></tr></tbody></table></div>"
      ]
     },
     "metadata": {
      "application/vnd.databricks.v1+output": {
       "addedWidgets": {},
       "aggData": [],
       "aggError": "",
       "aggOverflow": false,
       "aggSchema": [],
       "aggSeriesLimitReached": false,
       "aggType": "",
       "arguments": {},
       "columnCustomDisplayInfos": {},
       "data": [
        [
         "spark.databricks.delta.formatCheck.enabled",
         "false"
        ]
       ],
       "datasetInfos": [],
       "dbfsResultPath": null,
       "isJsonSchema": true,
       "metadata": {},
       "overflow": false,
       "plotOptions": {
        "customPlotOptions": {},
        "displayType": "table",
        "pivotAggregation": null,
        "pivotColumns": null,
        "xColumns": null,
        "yColumns": null
       },
       "removedWidgets": [],
       "schema": [
        {
         "metadata": "{}",
         "name": "key",
         "type": "\"string\""
        },
        {
         "metadata": "{}",
         "name": "value",
         "type": "\"string\""
        }
       ],
       "type": "table"
      }
     },
     "output_type": "display_data"
    }
   ],
   "source": [
    "%sql\n",
    "-- Disable format checks during reading of the Delta tables\n",
    "SET spark.databricks.delta.formatCheck.enabled=false"
   ]
  },
  {
   "cell_type": "code",
   "execution_count": 0,
   "metadata": {
    "application/vnd.databricks.v1+cell": {
     "cellMetadata": {
      "byteLimit": 2048000,
      "rowLimit": 10000
     },
     "inputWidgets": {},
     "nuid": "b9fe0ba9-8b9a-48f9-a653-9cef3b273e81",
     "showTitle": false,
     "title": ""
    }
   },
   "outputs": [
    {
     "output_type": "display_data",
     "data": {
      "text/html": [
       "<style scoped>\n",
       "  .table-result-container {\n",
       "    max-height: 300px;\n",
       "    overflow: auto;\n",
       "  }\n",
       "  table, th, td {\n",
       "    border: 1px solid black;\n",
       "    border-collapse: collapse;\n",
       "  }\n",
       "  th, td {\n",
       "    padding: 5px;\n",
       "  }\n",
       "  th {\n",
       "    text-align: left;\n",
       "  }\n",
       "</style><div class='table-result-container'><table class='table-result'><thead style='background-color: white'><tr><th>category</th><th>description</th><th>downloaded</th><th>follower_count</th><th>image_src</th><th>index</th><th>is_image_or_video</th><th>poster_name</th><th>save_location</th><th>tag_list</th><th>title</th><th>unique_id</th></tr></thead><tbody><tr><td>travel</td><td>This Costa Rica itinerary is the ultimate guide to spending two weeks in Costa Rica. Find out about visiting La Fortuna, Arenal, Monteverde, Naranjo, Corcovado National Park, Or… </td><td>1</td><td>10k</td><td>https://i.pinimg.com/originals/30/93/cb/3093cb01d9de2d125fda8ba5e3e41946.jpg</td><td>10138</td><td>image</td><td>Wanderlust Chloe ✈️ Travel guides, inspo and adventure travel ✈️</td><td>Local save in /data/travel</td><td>Costa Rica Travel,Rio Celeste Costa Rica,Dream Vacations,Vacation Spots,Vacation Travel,Travel Pictures,Travel Photos,Fortuna Costa Rica,Costa Rica Pictures</td><td>14 Amazing Things To Do In Costa Rica | Volcanoes, Waterfalls, Wildlife And More</td><td>927c4658-cc3f-4b92-9b5c-70743d0c238d</td></tr><tr><td>diy-and-crafts</td><td>This post may contain affiliate links, read our Disclosure Policy for more information. As an Amazon Associate I earn from qualifying purchases, thank you! Make some cute handpr… </td><td>1</td><td>892k</td><td>https://i.pinimg.com/originals/ff/fe/38/fffe384f3ec18a0d87cb2d80cc8c1499.jpg</td><td>3156</td><td>image</td><td>Michelle {CraftyMorning.com}</td><td>Local save in /data/diy-and-crafts</td><td>Christmas Gifts For Parents,Christmas Decorations For Kids,Christmas Crafts For Toddlers,Preschool Christmas,Christmas Crafts For Gifts,Christmas Activities,Toddler Crafts,Kids Christmas,Christmas Feeling</td><td>Handprint Reindeer Ornaments - Crafty Morning</td><td>fa6e31a4-18c2-4eca-a6d8-e903eee2c2a4</td></tr><tr><td>finance</td><td>If you love budgeting, make sure to give Dave Ramsey's 7 Baby Steps a try. Follow these steps to begin your debt snowball, build an emergency fund, invest and reach riches. I ca… </td><td>1</td><td>26k</td><td>https://i.pinimg.com/originals/1e/9d/90/1e9d906e4e150e3b95187f3b76ea7c71.png</td><td>5494</td><td>image</td><td>Living Low Key | Save Money, Make Money, & Frugal Living</td><td>Local save in /data/finance</td><td>Financial Peace,Financial Tips,Saving Money Quotes,Total Money Makeover,Budgeting Finances,Money Management,Wealth Management,Personal Finance,Making Ideas</td><td>Dave Ramsey's 7 Baby Steps: What Are They And Will They Work For You</td><td>8fb2af68-543b-4639-8119-de33d28706ed</td></tr><tr><td>finance</td><td>If you love budgeting, make sure to give Dave Ramsey's 7 Baby Steps a try. Follow these steps to begin your debt snowball, build an emergency fund, invest and reach riches. I ca… </td><td>1</td><td>26k</td><td>https://i.pinimg.com/originals/1e/9d/90/1e9d906e4e150e3b95187f3b76ea7c71.png</td><td>5494</td><td>image</td><td>Living Low Key | Save Money, Make Money, & Frugal Living</td><td>Local save in /data/finance</td><td>Financial Peace,Financial Tips,Saving Money Quotes,Total Money Makeover,Budgeting Finances,Money Management,Wealth Management,Personal Finance,Making Ideas</td><td>Dave Ramsey's 7 Baby Steps: What Are They And Will They Work For You</td><td>8fb2af68-543b-4639-8119-de33d28706ed</td></tr><tr><td>finance</td><td>If you love budgeting, make sure to give Dave Ramsey's 7 Baby Steps a try. Follow these steps to begin your debt snowball, build an emergency fund, invest and reach riches. I ca… </td><td>1</td><td>26k</td><td>https://i.pinimg.com/originals/1e/9d/90/1e9d906e4e150e3b95187f3b76ea7c71.png</td><td>5494</td><td>image</td><td>Living Low Key | Save Money, Make Money, & Frugal Living</td><td>Local save in /data/finance</td><td>Financial Peace,Financial Tips,Saving Money Quotes,Total Money Makeover,Budgeting Finances,Money Management,Wealth Management,Personal Finance,Making Ideas</td><td>Dave Ramsey's 7 Baby Steps: What Are They And Will They Work For You</td><td>8fb2af68-543b-4639-8119-de33d28706ed</td></tr><tr><td>finance</td><td>If you love budgeting, make sure to give Dave Ramsey's 7 Baby Steps a try. Follow these steps to begin your debt snowball, build an emergency fund, invest and reach riches. I ca… </td><td>1</td><td>26k</td><td>https://i.pinimg.com/originals/1e/9d/90/1e9d906e4e150e3b95187f3b76ea7c71.png</td><td>5494</td><td>image</td><td>Living Low Key | Save Money, Make Money, & Frugal Living</td><td>Local save in /data/finance</td><td>Financial Peace,Financial Tips,Saving Money Quotes,Total Money Makeover,Budgeting Finances,Money Management,Wealth Management,Personal Finance,Making Ideas</td><td>Dave Ramsey's 7 Baby Steps: What Are They And Will They Work For You</td><td>8fb2af68-543b-4639-8119-de33d28706ed</td></tr><tr><td>christmas</td><td>Here are the best DIY Christmas Centerpieces ideas perfect for your Christmas & holiday season home decor. From Christmas Vignettes to Table Centerpieces.</td><td>1</td><td>500k</td><td>https://i.pinimg.com/originals/aa/6d/0f/aa6d0f44d7c1c96b998cb9aa6c4446b8.png</td><td>2418</td><td>image</td><td>HikenDip</td><td>Local save in /data/christmas</td><td>Farmhouse Christmas Decor,Rustic Christmas,Christmas Time,Vintage Christmas,Xmas,Primitive Christmas Crafts,Christmas Vignette,Indoor Christmas Decorations,Diy Christmas Ornaments</td><td>100 DIY Christmas Centerpieces You'll Love To Decorate Your Home With For The Christmas Season - Hike n Dip</td><td>da8745a6-5160-46c4-877d-181d50a729fd</td></tr><tr><td>travel</td><td>Are you traveling to Paris during the summer? Find out what to do in Paris, France during the summer. Fun summertime activities in Paris. Enjoy the incredible outdoors when trav… </td><td>1</td><td>3k</td><td>https://i.pinimg.com/originals/6c/4c/90/6c4c90bba27ebf8c8bfe4c1acfb9f07a.jpg</td><td>9979</td><td>image</td><td>Petite in Paris</td><td>Local save in /data/travel</td><td>Torre Eiffel Paris,Tour Eiffel,Picnic In Paris,Hello France,Voyage Europe,Destination Voyage,Beautiful Places To Travel,Travel Aesthetic,Paris Travel</td><td>Paris in the Summer. 10 fun things to do in Paris in the Summertime • Petite in Paris</td><td>2b2abc85-fc51-481f-8ae6-17681993da28</td></tr><tr><td>home-decor</td><td>Holiday mantle decor, Christmas decor, metallic mercury glass style Christmas trees, eucalyptus vine, evergreen pine branches, white neutral holiday decor, cozy mantle for the h… </td><td>1</td><td>83k</td><td>https://i.pinimg.com/originals/9d/82/1a/9d821a80acd8f90c16454e978bd9b115.jpg</td><td>6145</td><td>image</td><td>Stylin by Aylin</td><td>Local save in /data/home-decor</td><td>Winter Home Decor,Christmas Living Room Decor,Living Room Decor Cozy,Christmas Decor,Cozy Fireplace,Rustic Fireplace Decor,Fireplace Decorations,Rustic Room,House Decorations</td><td>HOLIDAY MANTLE DECOR - @AMAZON & @TARGET FINDS</td><td>82e13a07-db99-43a3-b1c0-89a4b75821da</td></tr><tr><td>education</td><td>Podcasts for Teachers or Parents of Teenagers: Teaching teens middle school and high school can feel joyful and rewarding most days, but can also frustrate you with one challeng… </td><td>1</td><td>25k</td><td>https://i.pinimg.com/originals/50/19/31/501931a27ee4d076658980851b995b2c.jpg</td><td>4315</td><td>image</td><td>Math Giraffe</td><td>Local save in /data/education</td><td>Middle School Classroom,High School Students,High School Teachers,Middle School Tips,High School Counseling,Ela Classroom,High School Science,Future Classroom,Google Classroom</td><td>Podcasts for Teachers or Parents of Teenagers</td><td>21b59ba9-829d-4c33-8c27-4cd4c56d26b8</td></tr><tr><td>education</td><td>Podcasts for Teachers or Parents of Teenagers: Teaching teens middle school and high school can feel joyful and rewarding most days, but can also frustrate you with one challeng… </td><td>1</td><td>25k</td><td>https://i.pinimg.com/originals/50/19/31/501931a27ee4d076658980851b995b2c.jpg</td><td>4315</td><td>image</td><td>Math Giraffe</td><td>Local save in /data/education</td><td>Middle School Classroom,High School Students,High School Teachers,Middle School Tips,High School Counseling,Ela Classroom,High School Science,Future Classroom,Google Classroom</td><td>Podcasts for Teachers or Parents of Teenagers</td><td>21b59ba9-829d-4c33-8c27-4cd4c56d26b8</td></tr><tr><td>education</td><td>Podcasts for Teachers or Parents of Teenagers: Teaching teens middle school and high school can feel joyful and rewarding most days, but can also frustrate you with one challeng… </td><td>1</td><td>25k</td><td>https://i.pinimg.com/originals/50/19/31/501931a27ee4d076658980851b995b2c.jpg</td><td>4315</td><td>image</td><td>Math Giraffe</td><td>Local save in /data/education</td><td>Middle School Classroom,High School Students,High School Teachers,Middle School Tips,High School Counseling,Ela Classroom,High School Science,Future Classroom,Google Classroom</td><td>Podcasts for Teachers or Parents of Teenagers</td><td>21b59ba9-829d-4c33-8c27-4cd4c56d26b8</td></tr><tr><td>education</td><td>Podcasts for Teachers or Parents of Teenagers: Teaching teens middle school and high school can feel joyful and rewarding most days, but can also frustrate you with one challeng… </td><td>1</td><td>25k</td><td>https://i.pinimg.com/originals/50/19/31/501931a27ee4d076658980851b995b2c.jpg</td><td>4315</td><td>image</td><td>Math Giraffe</td><td>Local save in /data/education</td><td>Middle School Classroom,High School Students,High School Teachers,Middle School Tips,High School Counseling,Ela Classroom,High School Science,Future Classroom,Google Classroom</td><td>Podcasts for Teachers or Parents of Teenagers</td><td>21b59ba9-829d-4c33-8c27-4cd4c56d26b8</td></tr><tr><td>event-planning</td><td>Sacramento California Wedding 2 Chic Events & Design Jodi Yorston Photography Wilson Vineyards Barn Miosa Couture Yellow Barn Vineyard Outdoor Candles DIY</td><td>1</td><td>6M</td><td>https://i.pinimg.com/originals/7e/45/90/7e45905fefa36347e83333fd6d091140.jpg</td><td>5069</td><td>image</td><td>Style Me Pretty</td><td>Local save in /data/event-planning</td><td>60th Anniversary Parties,Anniversary Decorations,Golden Anniversary,25th Wedding Anniversary,Anniversary Pictures,Anniversary Ideas,Birthday Decorations,Event Planning Design,Event Design</td><td>The Vault: Curated & Refined Wedding Inspiration</td><td>b75b6f87-deb3-444f-b29e-ce9161b2df49</td></tr><tr><td>event-planning</td><td>Sacramento California Wedding 2 Chic Events & Design Jodi Yorston Photography Wilson Vineyards Barn Miosa Couture Yellow Barn Vineyard Outdoor Candles DIY</td><td>1</td><td>6M</td><td>https://i.pinimg.com/originals/7e/45/90/7e45905fefa36347e83333fd6d091140.jpg</td><td>5069</td><td>image</td><td>Style Me Pretty</td><td>Local save in /data/event-planning</td><td>60th Anniversary Parties,Anniversary Decorations,Golden Anniversary,25th Wedding Anniversary,Anniversary Pictures,Anniversary Ideas,Birthday Decorations,Event Planning Design,Event Design</td><td>The Vault: Curated & Refined Wedding Inspiration</td><td>b75b6f87-deb3-444f-b29e-ce9161b2df49</td></tr><tr><td>event-planning</td><td>Sacramento California Wedding 2 Chic Events & Design Jodi Yorston Photography Wilson Vineyards Barn Miosa Couture Yellow Barn Vineyard Outdoor Candles DIY</td><td>1</td><td>6M</td><td>https://i.pinimg.com/originals/7e/45/90/7e45905fefa36347e83333fd6d091140.jpg</td><td>5069</td><td>image</td><td>Style Me Pretty</td><td>Local save in /data/event-planning</td><td>60th Anniversary Parties,Anniversary Decorations,Golden Anniversary,25th Wedding Anniversary,Anniversary Pictures,Anniversary Ideas,Birthday Decorations,Event Planning Design,Event Design</td><td>The Vault: Curated & Refined Wedding Inspiration</td><td>b75b6f87-deb3-444f-b29e-ce9161b2df49</td></tr><tr><td>mens-fashion</td><td>Black And Brown Outfits You Need To Try This Fall Season. The trick with black and brown outfits is to know how to combine colors, fabrics, and shapes to get a cohesive look. So… </td><td>1</td><td>1M</td><td>https://i.pinimg.com/originals/3e/49/09/3e4909c0ccc4dbba3cad83d97eab4a61.png</td><td>7343</td><td>image</td><td>Cultura Colectiva</td><td>Local save in /data/mens-fashion</td><td>Winter Outfits Men,Stylish Mens Outfits,Casual Outfits,Men Casual,Smart Casual,Outfits For Men,Fall Outfits,Mens Winter Boots,Business Casual Men</td><td>This Fashion Rule Is Nonsense, And We Should All Forget About It</td><td>b8c63a95-6fe8-4d7f-9455-1eef3462fee0</td></tr><tr><td>event-planning</td><td>Sacramento California Wedding 2 Chic Events & Design Jodi Yorston Photography Wilson Vineyards Barn Miosa Couture Yellow Barn Vineyard Outdoor Candles DIY</td><td>1</td><td>6M</td><td>https://i.pinimg.com/originals/7e/45/90/7e45905fefa36347e83333fd6d091140.jpg</td><td>5069</td><td>image</td><td>Style Me Pretty</td><td>Local save in /data/event-planning</td><td>60th Anniversary Parties,Anniversary Decorations,Golden Anniversary,25th Wedding Anniversary,Anniversary Pictures,Anniversary Ideas,Birthday Decorations,Event Planning Design,Event Design</td><td>The Vault: Curated & Refined Wedding Inspiration</td><td>b75b6f87-deb3-444f-b29e-ce9161b2df49</td></tr><tr><td>home-decor</td><td>Beautiful and easy ways to update every room in your home with fall decor. Plus, my favorite finds in fall decor for 2020!</td><td>1</td><td>92k</td><td>https://i.pinimg.com/originals/e5/ae/dc/e5aedc14ce557e3a69f672e0f8c88f6e.png</td><td>6063</td><td>image</td><td>Kristen | Lifestyle, Mom Tips & Teacher Stuff Blog</td><td>Local save in /data/home-decor</td><td>Fall Home Decor,Autumn Home,Fall Decor Outdoor,Front Porch Fall Decor,Home Decor Ideas,Porch Ideas For Fall,Fall Outdoor Decorating,Decorating Ideas For Fall,Fall Front Doors</td><td>41 Gorgeous Fall Decor Ideas For Your Home - Chaylor & Mads</td><td>60693727-4927-4bd6-a8c5-096a392d63e6</td></tr><tr><td>diy-and-crafts</td><td>One thing I love about Crafts is how the evolve! These toilet paper rolls are adorable and modern. I love that something as simple as a recycled toilet paper roll can be taken t… </td><td>1</td><td>502k</td><td>https://i.pinimg.com/originals/c6/cd/0d/c6cd0d04da9cfc11566cfd34eeb1f918.jpg</td><td>2959</td><td>image</td><td>CraftGossip.com</td><td>Local save in /data/diy-and-crafts</td><td>Toilet Paper Roll Crafts,Cardboard Crafts,Diy Paper,Paper Crafting,Toilet Paper Rolls,Cardboard Playhouse,Paper Art,Kids Crafts,Toddler Crafts</td><td>The Cutest Toilet Paper Crafts</td><td>439cac4b-18e8-4aaa-88c5-edb26a701111</td></tr><tr><td>travel</td><td>35 European bucket list destinations for any traveler heading to Europe. From Cinque Terre, Italy to Iceland - there are so many amazing sites to see in Europe.</td><td>1</td><td>28k</td><td>https://i.pinimg.com/originals/71/04/1a/71041ad83ede43d9665741e719c58a86.jpg</td><td>9875</td><td>image</td><td>Nicki </td><td>Local save in /data/travel</td><td>Backpacking Europe,Europe Travel Guide,Travel Guides,Travel Packing,Traveling Europe,Travelling,Travel Backpack,Budget Travel,2 Week Europe Itinerary</td><td>European Bucket List: 35 Things NOT To Miss When Traveling Europe</td><td>782dcbad-ff91-40a6-ba60-216efe29adb7</td></tr><tr><td>art</td><td>Fashion designer Issac Mizrahi’s Greenwich Village home is an amalgamation of three apartments that was 20 years in the making</td><td>1</td><td>3M</td><td>https://i.pinimg.com/originals/f4/6c/54/f46c546a2e480022a42d842b7dca157e.jpg</td><td>428</td><td>image</td><td>Architectural Digest</td><td>Local save in /data/art</td><td>Modern Art,Contemporary Art,Contemporary Kitchens,Contemporary Bedroom,New York City Apartment,Manhattan Apartment,Art Moderne,Architectural Digest,Painting Inspiration</td><td>Fashion Designer Isaac Mizrahi’s Updated 1930s New York City Apartment</td><td>610b3f83-9fe0-469d-946c-d16b577fca71</td></tr><tr><td>diy-and-crafts</td><td>HELPFUL RESOURCES – Check out my resin colorants resources page here with links to all the products mentioned in this article (and more). Let me know if you have any that you lo… </td><td>1</td><td>6k</td><td>https://i.pinimg.com/originals/d4/12/78/d4127833023ca32600571ddca16f1556.jpg</td><td>3454</td><td>image</td><td>Mixed Media Crafts</td><td>Local save in /data/diy-and-crafts</td><td>Epoxy Resin Art,Diy Resin Art,Diy Resin Crafts,Resin Molds,Ice Resin,Resin Pour,Diy Epoxy,Diy Resin Painting,Diy Resin Dice</td><td>What can you use to color resin?</td><td>46bd3f86-b09d-4e29-9033-7ff2df595e51</td></tr><tr><td>finance</td><td>Description Coupon Organizer in a fun colorful fabric -island oasis, Great Size for the \"basic\" couponer - holds up to 500 coupons with ease, and is made long enough so that you… </td><td>1</td><td>0</td><td>https://i.pinimg.com/originals/65/bb/ea/65bbeaf458907bb079317d8303c4fa0e.jpg</td><td>5730</td><td>image</td><td>Consuelo Aguirre</td><td>Local save in /data/finance</td><td>Grocery Items,Grocery Coupons,Care Organization,Coupon Organization,Extreme Couponing,Couponing 101,Life Binder,Save My Money,Love Coupons</td><td>Island Oasis Coupon Organizer</td><td>1e1f0c8b-9fcf-460b-9154-c775827206eb</td></tr><tr><td>finance</td><td>Description Coupon Organizer in a fun colorful fabric -island oasis, Great Size for the \"basic\" couponer - holds up to 500 coupons with ease, and is made long enough so that you… </td><td>1</td><td>0</td><td>https://i.pinimg.com/originals/65/bb/ea/65bbeaf458907bb079317d8303c4fa0e.jpg</td><td>5730</td><td>image</td><td>Consuelo Aguirre</td><td>Local save in /data/finance</td><td>Grocery Items,Grocery Coupons,Care Organization,Coupon Organization,Extreme Couponing,Couponing 101,Life Binder,Save My Money,Love Coupons</td><td>Island Oasis Coupon Organizer</td><td>1e1f0c8b-9fcf-460b-9154-c775827206eb</td></tr><tr><td>finance</td><td>Description Coupon Organizer in a fun colorful fabric -island oasis, Great Size for the \"basic\" couponer - holds up to 500 coupons with ease, and is made long enough so that you… </td><td>1</td><td>0</td><td>https://i.pinimg.com/originals/65/bb/ea/65bbeaf458907bb079317d8303c4fa0e.jpg</td><td>5730</td><td>image</td><td>Consuelo Aguirre</td><td>Local save in /data/finance</td><td>Grocery Items,Grocery Coupons,Care Organization,Coupon Organization,Extreme Couponing,Couponing 101,Life Binder,Save My Money,Love Coupons</td><td>Island Oasis Coupon Organizer</td><td>1e1f0c8b-9fcf-460b-9154-c775827206eb</td></tr><tr><td>finance</td><td>Description Coupon Organizer in a fun colorful fabric -island oasis, Great Size for the \"basic\" couponer - holds up to 500 coupons with ease, and is made long enough so that you… </td><td>1</td><td>0</td><td>https://i.pinimg.com/originals/65/bb/ea/65bbeaf458907bb079317d8303c4fa0e.jpg</td><td>5730</td><td>image</td><td>Consuelo Aguirre</td><td>Local save in /data/finance</td><td>Grocery Items,Grocery Coupons,Care Organization,Coupon Organization,Extreme Couponing,Couponing 101,Life Binder,Save My Money,Love Coupons</td><td>Island Oasis Coupon Organizer</td><td>1e1f0c8b-9fcf-460b-9154-c775827206eb</td></tr><tr><td>christmas</td><td>20 Christmas Decorating Ideas We Bet You Haven't Thought Of via @PureWow</td><td>1</td><td>868k</td><td>https://i.pinimg.com/originals/e9/b9/f0/e9b9f01cc3b2cf41948b45854335396c.jpg</td><td>2074</td><td>image</td><td>PureWow</td><td>Local save in /data/christmas</td><td>Holiday Centerpieces,Xmas Decorations,Centerpiece Ideas,Table Centerpieces,Valentine Decorations,Wedding Centerpieces,Outdoor Decorations,Christmas Centerpieces With Candles,Christmas Dining Table Decorations</td><td>35 Christmas Decorating Ideas We Bet You Haven't Thought Of</td><td>86ed09a7-842d-496d-9501-010c654eb340</td></tr><tr><td>diy-and-crafts</td><td>Keep the kids busy this summer with these easy diy crafts and projects. Creative and…</td><td>1</td><td>124k</td><td>https://i.pinimg.com/originals/b3/bc/e2/b3bce2964e8c8975387b39660eed5f16.jpg</td><td>2863</td><td>image</td><td>Of Life & Lisa | Lifestyle Blog</td><td>Local save in /data/diy-and-crafts</td><td>Summer Crafts For Kids,Fun Crafts For Kids,Summer Kids,Toddler Crafts,Crafts To Do,Diy For Kids,Summer Snow,Diys For Summer,Craft Ideas For Girls</td><td>25 Super Fun Summer Crafts for Kids - Of Life and Lisa</td><td>9bf39437-42a6-4f02-99a0-9a0383d8cd70</td></tr><tr><td>diy-and-crafts</td><td>Keep the kids busy this summer with these easy diy crafts and projects. Creative and…</td><td>1</td><td>124k</td><td>https://i.pinimg.com/originals/b3/bc/e2/b3bce2964e8c8975387b39660eed5f16.jpg</td><td>2863</td><td>image</td><td>Of Life & Lisa | Lifestyle Blog</td><td>Local save in /data/diy-and-crafts</td><td>Summer Crafts For Kids,Fun Crafts For Kids,Summer Kids,Toddler Crafts,Crafts To Do,Diy For Kids,Summer Snow,Diys For Summer,Craft Ideas For Girls</td><td>25 Super Fun Summer Crafts for Kids - Of Life and Lisa</td><td>9bf39437-42a6-4f02-99a0-9a0383d8cd70</td></tr><tr><td>diy-and-crafts</td><td>Keep the kids busy this summer with these easy diy crafts and projects. Creative and…</td><td>1</td><td>124k</td><td>https://i.pinimg.com/originals/b3/bc/e2/b3bce2964e8c8975387b39660eed5f16.jpg</td><td>2863</td><td>image</td><td>Of Life & Lisa | Lifestyle Blog</td><td>Local save in /data/diy-and-crafts</td><td>Summer Crafts For Kids,Fun Crafts For Kids,Summer Kids,Toddler Crafts,Crafts To Do,Diy For Kids,Summer Snow,Diys For Summer,Craft Ideas For Girls</td><td>25 Super Fun Summer Crafts for Kids - Of Life and Lisa</td><td>9bf39437-42a6-4f02-99a0-9a0383d8cd70</td></tr><tr><td>diy-and-crafts</td><td>Keep the kids busy this summer with these easy diy crafts and projects. Creative and…</td><td>1</td><td>124k</td><td>https://i.pinimg.com/originals/b3/bc/e2/b3bce2964e8c8975387b39660eed5f16.jpg</td><td>2863</td><td>image</td><td>Of Life & Lisa | Lifestyle Blog</td><td>Local save in /data/diy-and-crafts</td><td>Summer Crafts For Kids,Fun Crafts For Kids,Summer Kids,Toddler Crafts,Crafts To Do,Diy For Kids,Summer Snow,Diys For Summer,Craft Ideas For Girls</td><td>25 Super Fun Summer Crafts for Kids - Of Life and Lisa</td><td>9bf39437-42a6-4f02-99a0-9a0383d8cd70</td></tr><tr><td>diy-and-crafts</td><td>A fun space activity for kids. Preshoolers and kindergartners will love making their own alien spacecraft!</td><td>1</td><td>192k</td><td>https://i.pinimg.com/originals/6f/e8/aa/6fe8aa405513c6d2f77b5f47d17cdce8.jpg</td><td>2923</td><td>image</td><td>The Crafting Chicks</td><td>Local save in /data/diy-and-crafts</td><td>Paper Plate Crafts For Kids,Fun Crafts For Kids,Summer Crafts,Toddler Crafts,Art For Kids,Outer Space Crafts For Kids,Kid Crafts,Space Kids,Back To School Crafts For Kids</td><td>UFO Paper Plate Craft</td><td>52fa3af5-24a4-4ccb-8f17-9c3eb12327ee</td></tr><tr><td>diy-and-crafts</td><td>A fun space activity for kids. Preshoolers and kindergartners will love making their own alien spacecraft!</td><td>1</td><td>192k</td><td>https://i.pinimg.com/originals/6f/e8/aa/6fe8aa405513c6d2f77b5f47d17cdce8.jpg</td><td>2923</td><td>image</td><td>The Crafting Chicks</td><td>Local save in /data/diy-and-crafts</td><td>Paper Plate Crafts For Kids,Fun Crafts For Kids,Summer Crafts,Toddler Crafts,Art For Kids,Outer Space Crafts For Kids,Kid Crafts,Space Kids,Back To School Crafts For Kids</td><td>UFO Paper Plate Craft</td><td>52fa3af5-24a4-4ccb-8f17-9c3eb12327ee</td></tr><tr><td>diy-and-crafts</td><td>A fun space activity for kids. Preshoolers and kindergartners will love making their own alien spacecraft!</td><td>1</td><td>192k</td><td>https://i.pinimg.com/originals/6f/e8/aa/6fe8aa405513c6d2f77b5f47d17cdce8.jpg</td><td>2923</td><td>image</td><td>The Crafting Chicks</td><td>Local save in /data/diy-and-crafts</td><td>Paper Plate Crafts For Kids,Fun Crafts For Kids,Summer Crafts,Toddler Crafts,Art For Kids,Outer Space Crafts For Kids,Kid Crafts,Space Kids,Back To School Crafts For Kids</td><td>UFO Paper Plate Craft</td><td>52fa3af5-24a4-4ccb-8f17-9c3eb12327ee</td></tr><tr><td>tattoos</td><td>Koi fish tattoos are a popular choice for men who want to make a statement, thanks to their rich symbolism and bold design.</td><td>1</td><td>211k</td><td>https://i.pinimg.com/originals/8a/0c/0a/8a0c0a7b6236565c519acd41ad1a52c0.jpg</td><td>8731</td><td>image</td><td>TheTrendSpotter</td><td>Local save in /data/tattoos</td><td>Dr Tattoo,Wörter Tattoos,Pisces Tattoos,Tatoo Art,Dream Tattoos,Dope Tattoos,Mini Tattoos,Finger Tattoos,Body Art Tattoos</td><td>20 Koi Fish Tattoos For Lucky Men</td><td>ea760f71-febf-4023-b592-d17396659039</td></tr><tr><td>tattoos</td><td>Koi fish tattoos are a popular choice for men who want to make a statement, thanks to their rich symbolism and bold design.</td><td>1</td><td>211k</td><td>https://i.pinimg.com/originals/8a/0c/0a/8a0c0a7b6236565c519acd41ad1a52c0.jpg</td><td>8731</td><td>image</td><td>TheTrendSpotter</td><td>Local save in /data/tattoos</td><td>Dr Tattoo,Wörter Tattoos,Pisces Tattoos,Tatoo Art,Dream Tattoos,Dope Tattoos,Mini Tattoos,Finger Tattoos,Body Art Tattoos</td><td>20 Koi Fish Tattoos For Lucky Men</td><td>ea760f71-febf-4023-b592-d17396659039</td></tr><tr><td>tattoos</td><td>Koi fish tattoos are a popular choice for men who want to make a statement, thanks to their rich symbolism and bold design.</td><td>1</td><td>211k</td><td>https://i.pinimg.com/originals/8a/0c/0a/8a0c0a7b6236565c519acd41ad1a52c0.jpg</td><td>8731</td><td>image</td><td>TheTrendSpotter</td><td>Local save in /data/tattoos</td><td>Dr Tattoo,Wörter Tattoos,Pisces Tattoos,Tatoo Art,Dream Tattoos,Dope Tattoos,Mini Tattoos,Finger Tattoos,Body Art Tattoos</td><td>20 Koi Fish Tattoos For Lucky Men</td><td>ea760f71-febf-4023-b592-d17396659039</td></tr><tr><td>tattoos</td><td>Koi fish tattoos are a popular choice for men who want to make a statement, thanks to their rich symbolism and bold design.</td><td>1</td><td>211k</td><td>https://i.pinimg.com/originals/8a/0c/0a/8a0c0a7b6236565c519acd41ad1a52c0.jpg</td><td>8731</td><td>image</td><td>TheTrendSpotter</td><td>Local save in /data/tattoos</td><td>Dr Tattoo,Wörter Tattoos,Pisces Tattoos,Tatoo Art,Dream Tattoos,Dope Tattoos,Mini Tattoos,Finger Tattoos,Body Art Tattoos</td><td>20 Koi Fish Tattoos For Lucky Men</td><td>ea760f71-febf-4023-b592-d17396659039</td></tr><tr><td>quotes</td><td>#lovequotes #matchmaker #matchmadeinheaven #loveyourself #respectyourself</td><td>1</td><td>51k</td><td>https://i.pinimg.com/originals/c6/64/ee/c664ee71524fb5a6e7b7b49233f93b43.png</td><td>8304</td><td>image</td><td>Commitment Connection</td><td>Local save in /data/quotes</td><td>Wise Quotes,Quotable Quotes,Words Quotes,Wise Words,Quotes To Live By,Great Quotes,Motivational Quotes,Inspirational Quotes,Funny Quotes</td><td>The #1 Reason You’re Not His Priority Anymore - Matthew Coast</td><td>5b6d0913-25e4-43ab-839d-85d5516f78a4</td></tr><tr><td>quotes</td><td>#lovequotes #matchmaker #matchmadeinheaven #loveyourself #respectyourself</td><td>1</td><td>51k</td><td>https://i.pinimg.com/originals/c6/64/ee/c664ee71524fb5a6e7b7b49233f93b43.png</td><td>8304</td><td>image</td><td>Commitment Connection</td><td>Local save in /data/quotes</td><td>Wise Quotes,Quotable Quotes,Words Quotes,Wise Words,Quotes To Live By,Great Quotes,Motivational Quotes,Inspirational Quotes,Funny Quotes</td><td>The #1 Reason You’re Not His Priority Anymore - Matthew Coast</td><td>5b6d0913-25e4-43ab-839d-85d5516f78a4</td></tr><tr><td>quotes</td><td>#lovequotes #matchmaker #matchmadeinheaven #loveyourself #respectyourself</td><td>1</td><td>51k</td><td>https://i.pinimg.com/originals/c6/64/ee/c664ee71524fb5a6e7b7b49233f93b43.png</td><td>8304</td><td>image</td><td>Commitment Connection</td><td>Local save in /data/quotes</td><td>Wise Quotes,Quotable Quotes,Words Quotes,Wise Words,Quotes To Live By,Great Quotes,Motivational Quotes,Inspirational Quotes,Funny Quotes</td><td>The #1 Reason You’re Not His Priority Anymore - Matthew Coast</td><td>5b6d0913-25e4-43ab-839d-85d5516f78a4</td></tr><tr><td>quotes</td><td>#lovequotes #matchmaker #matchmadeinheaven #loveyourself #respectyourself</td><td>1</td><td>51k</td><td>https://i.pinimg.com/originals/c6/64/ee/c664ee71524fb5a6e7b7b49233f93b43.png</td><td>8304</td><td>image</td><td>Commitment Connection</td><td>Local save in /data/quotes</td><td>Wise Quotes,Quotable Quotes,Words Quotes,Wise Words,Quotes To Live By,Great Quotes,Motivational Quotes,Inspirational Quotes,Funny Quotes</td><td>The #1 Reason You’re Not His Priority Anymore - Matthew Coast</td><td>5b6d0913-25e4-43ab-839d-85d5516f78a4</td></tr><tr><td>mens-fashion</td><td>imgentleboss: “ - More about men’s fashion at @Gentleboss - GB’s Facebook - ”</td><td>1</td><td>940</td><td>https://i.pinimg.com/originals/e7/6e/8e/e76e8ed6cc838b84a934c6948a5caff7.jpg</td><td>7554</td><td>image</td><td>iElylike ..✿◕‿◕✿ஐ✿◕‿◕✿</td><td>Local save in /data/mens-fashion</td><td>Mens Fashion Blog,Look Fashion,Autumn Fashion,Fashion News,Fashion Sale,80s Fashion,Paris Fashion,Runway Fashion,Fashion Trends</td><td>Craig Style</td><td>c6fa12f4-0d4a-4b07-a335-5bf9f37f8281</td></tr><tr><td>beauty</td><td>Instantly create the look of lash extensions with this award-winning, best-selling mascara that won't clump, flake or smudge. Available in 3 shades!</td><td>1</td><td>43k</td><td>https://i.pinimg.com/videos/thumbnails/originals/69/84/e2/6984e20f3e262098fa9c0614c3453254.0000001.jpg</td><td>1313</td><td>video</td><td>Thrive Causemetics</td><td>Local save in /data/beauty</td><td>N,o, ,T,a,g,s, ,A,v,a,i,l,a,b,l,e</td><td>Liquid Lash Extensions Mascara</td><td>44662045-e891-4821-8a19-ebe7eedd371a</td></tr><tr><td>beauty</td><td>Instantly create the look of lash extensions with this award-winning, best-selling mascara that won't clump, flake or smudge. Available in 3 shades!</td><td>1</td><td>43k</td><td>https://i.pinimg.com/videos/thumbnails/originals/69/84/e2/6984e20f3e262098fa9c0614c3453254.0000001.jpg</td><td>1313</td><td>video</td><td>Thrive Causemetics</td><td>Local save in /data/beauty</td><td>N,o, ,T,a,g,s, ,A,v,a,i,l,a,b,l,e</td><td>Liquid Lash Extensions Mascara</td><td>44662045-e891-4821-8a19-ebe7eedd371a</td></tr><tr><td>beauty</td><td>Instantly create the look of lash extensions with this award-winning, best-selling mascara that won't clump, flake or smudge. Available in 3 shades!</td><td>1</td><td>43k</td><td>https://i.pinimg.com/videos/thumbnails/originals/69/84/e2/6984e20f3e262098fa9c0614c3453254.0000001.jpg</td><td>1313</td><td>video</td><td>Thrive Causemetics</td><td>Local save in /data/beauty</td><td>N,o, ,T,a,g,s, ,A,v,a,i,l,a,b,l,e</td><td>Liquid Lash Extensions Mascara</td><td>44662045-e891-4821-8a19-ebe7eedd371a</td></tr><tr><td>beauty</td><td>Instantly create the look of lash extensions with this award-winning, best-selling mascara that won't clump, flake or smudge. Available in 3 shades!</td><td>1</td><td>43k</td><td>https://i.pinimg.com/videos/thumbnails/originals/69/84/e2/6984e20f3e262098fa9c0614c3453254.0000001.jpg</td><td>1313</td><td>video</td><td>Thrive Causemetics</td><td>Local save in /data/beauty</td><td>N,o, ,T,a,g,s, ,A,v,a,i,l,a,b,l,e</td><td>Liquid Lash Extensions Mascara</td><td>44662045-e891-4821-8a19-ebe7eedd371a</td></tr><tr><td>vehicles</td><td>1937 Jaguar SS100 - 2 1/2 Litre Roadster, one of the most sought after pre-war sports cars</td><td>1</td><td>8k</td><td>https://i.pinimg.com/originals/26/81/a7/2681a71bd0c8f7fd0ab79c455338a49a.jpg</td><td>10625</td><td>image</td><td>hobbyDB</td><td>Local save in /data/vehicles</td><td>Jaguar Type E,Jaguar Xk,Jaguar Cars,Jaguar Roadster,Jaguar Sport,Retro Cars,Vintage Cars,Antique Cars,British Sports Cars</td><td>Jaguar Type E</td><td>d31885b7-742a-4e2a-bbb7-ac5f9d334340</td></tr><tr><td>vehicles</td><td>Nissan GT-R. Sick.</td><td>1</td><td>437</td><td>https://i.pinimg.com/originals/0d/29/9f/0d299f3df020395aa7ce8387f40fbeed.jpg</td><td>10794</td><td>image</td><td>Ray Uyemura</td><td>Local save in /data/vehicles</td><td>Lowrider,Old Vintage Cars,Antique Cars,Austin Martin,Nissan Gtr Black,Jaguar,1959 Cadillac,Cadillac Ct6,Old School Cars</td><td>TireBuyer</td><td>c4bd2577-a7bb-4409-bb7a-17d5ed7e1cf1</td></tr><tr><td>vehicles</td><td>Nissan GT-R. Sick.</td><td>1</td><td>437</td><td>https://i.pinimg.com/originals/0d/29/9f/0d299f3df020395aa7ce8387f40fbeed.jpg</td><td>10794</td><td>image</td><td>Ray Uyemura</td><td>Local save in /data/vehicles</td><td>Lowrider,Old Vintage Cars,Antique Cars,Austin Martin,Nissan Gtr Black,Jaguar,1959 Cadillac,Cadillac Ct6,Old School Cars</td><td>TireBuyer</td><td>c4bd2577-a7bb-4409-bb7a-17d5ed7e1cf1</td></tr><tr><td>vehicles</td><td>Nissan GT-R. Sick.</td><td>1</td><td>437</td><td>https://i.pinimg.com/originals/0d/29/9f/0d299f3df020395aa7ce8387f40fbeed.jpg</td><td>10794</td><td>image</td><td>Ray Uyemura</td><td>Local save in /data/vehicles</td><td>Lowrider,Old Vintage Cars,Antique Cars,Austin Martin,Nissan Gtr Black,Jaguar,1959 Cadillac,Cadillac Ct6,Old School Cars</td><td>TireBuyer</td><td>c4bd2577-a7bb-4409-bb7a-17d5ed7e1cf1</td></tr><tr><td>vehicles</td><td>Nissan GT-R. Sick.</td><td>1</td><td>437</td><td>https://i.pinimg.com/originals/0d/29/9f/0d299f3df020395aa7ce8387f40fbeed.jpg</td><td>10794</td><td>image</td><td>Ray Uyemura</td><td>Local save in /data/vehicles</td><td>Lowrider,Old Vintage Cars,Antique Cars,Austin Martin,Nissan Gtr Black,Jaguar,1959 Cadillac,Cadillac Ct6,Old School Cars</td><td>TireBuyer</td><td>c4bd2577-a7bb-4409-bb7a-17d5ed7e1cf1</td></tr><tr><td>diy-and-crafts</td><td>No description available Story format</td><td>0</td><td>User Info Error</td><td>Image src error.</td><td>3089</td><td>multi-video(story page format)</td><td>User Info Error</td><td>Local save in /data/diy-and-crafts</td><td>N,o, ,T,a,g,s, ,A,v,a,i,l,a,b,l,e</td><td>No Title Data Available</td><td>88f9227e-88d0-4b1c-b0be-bcfc3028b8e2</td></tr><tr><td>diy-and-crafts</td><td>No description available Story format</td><td>0</td><td>User Info Error</td><td>Image src error.</td><td>3089</td><td>multi-video(story page format)</td><td>User Info Error</td><td>Local save in /data/diy-and-crafts</td><td>N,o, ,T,a,g,s, ,A,v,a,i,l,a,b,l,e</td><td>No Title Data Available</td><td>88f9227e-88d0-4b1c-b0be-bcfc3028b8e2</td></tr><tr><td>diy-and-crafts</td><td>No description available Story format</td><td>0</td><td>User Info Error</td><td>Image src error.</td><td>3089</td><td>multi-video(story page format)</td><td>User Info Error</td><td>Local save in /data/diy-and-crafts</td><td>N,o, ,T,a,g,s, ,A,v,a,i,l,a,b,l,e</td><td>No Title Data Available</td><td>88f9227e-88d0-4b1c-b0be-bcfc3028b8e2</td></tr><tr><td>mens-fashion</td><td>No description available Story format</td><td>0</td><td>User Info Error</td><td>Image src error.</td><td>7528</td><td>multi-video(story page format)</td><td>User Info Error</td><td>Local save in /data/mens-fashion</td><td>N,o, ,T,a,g,s, ,A,v,a,i,l,a,b,l,e</td><td>No Title Data Available</td><td>fbe53c66-3442-4773-b19e-d3ec6f54dddf</td></tr><tr><td>mens-fashion</td><td>No description available Story format</td><td>0</td><td>User Info Error</td><td>Image src error.</td><td>7528</td><td>multi-video(story page format)</td><td>User Info Error</td><td>Local save in /data/mens-fashion</td><td>N,o, ,T,a,g,s, ,A,v,a,i,l,a,b,l,e</td><td>No Title Data Available</td><td>fbe53c66-3442-4773-b19e-d3ec6f54dddf</td></tr><tr><td>mens-fashion</td><td>No description available Story format</td><td>0</td><td>User Info Error</td><td>Image src error.</td><td>7528</td><td>multi-video(story page format)</td><td>User Info Error</td><td>Local save in /data/mens-fashion</td><td>N,o, ,T,a,g,s, ,A,v,a,i,l,a,b,l,e</td><td>No Title Data Available</td><td>fbe53c66-3442-4773-b19e-d3ec6f54dddf</td></tr><tr><td>mens-fashion</td><td>No description available Story format</td><td>0</td><td>User Info Error</td><td>Image src error.</td><td>7528</td><td>multi-video(story page format)</td><td>User Info Error</td><td>Local save in /data/mens-fashion</td><td>N,o, ,T,a,g,s, ,A,v,a,i,l,a,b,l,e</td><td>No Title Data Available</td><td>fbe53c66-3442-4773-b19e-d3ec6f54dddf</td></tr></tbody></table></div>"
      ]
     },
     "metadata": {
      "application/vnd.databricks.v1+output": {
       "addedWidgets": {},
       "aggData": [],
       "aggError": "",
       "aggOverflow": false,
       "aggSchema": [],
       "aggSeriesLimitReached": false,
       "aggType": "",
       "arguments": {},
       "columnCustomDisplayInfos": {},
       "data": [
        [
         "travel",
         "This Costa Rica itinerary is the ultimate guide to spending two weeks in Costa Rica. Find out about visiting La Fortuna, Arenal, Monteverde, Naranjo, Corcovado National Park, Or… ",
         1,
         "10k",
         "https://i.pinimg.com/originals/30/93/cb/3093cb01d9de2d125fda8ba5e3e41946.jpg",
         10138,
         "image",
         "Wanderlust Chloe ✈️ Travel guides, inspo and adventure travel ✈️",
         "Local save in /data/travel",
         "Costa Rica Travel,Rio Celeste Costa Rica,Dream Vacations,Vacation Spots,Vacation Travel,Travel Pictures,Travel Photos,Fortuna Costa Rica,Costa Rica Pictures",
         "14 Amazing Things To Do In Costa Rica | Volcanoes, Waterfalls, Wildlife And More",
         "927c4658-cc3f-4b92-9b5c-70743d0c238d"
        ],
        [
         "diy-and-crafts",
         "This post may contain affiliate links, read our Disclosure Policy for more information. As an Amazon Associate I earn from qualifying purchases, thank you! Make some cute handpr… ",
         1,
         "892k",
         "https://i.pinimg.com/originals/ff/fe/38/fffe384f3ec18a0d87cb2d80cc8c1499.jpg",
         3156,
         "image",
         "Michelle {CraftyMorning.com}",
         "Local save in /data/diy-and-crafts",
         "Christmas Gifts For Parents,Christmas Decorations For Kids,Christmas Crafts For Toddlers,Preschool Christmas,Christmas Crafts For Gifts,Christmas Activities,Toddler Crafts,Kids Christmas,Christmas Feeling",
         "Handprint Reindeer Ornaments - Crafty Morning",
         "fa6e31a4-18c2-4eca-a6d8-e903eee2c2a4"
        ],
        [
         "finance",
         "If you love budgeting, make sure to give Dave Ramsey's 7 Baby Steps a try. Follow these steps to begin your debt snowball, build an emergency fund, invest and reach riches. I ca… ",
         1,
         "26k",
         "https://i.pinimg.com/originals/1e/9d/90/1e9d906e4e150e3b95187f3b76ea7c71.png",
         5494,
         "image",
         "Living Low Key | Save Money, Make Money, & Frugal Living",
         "Local save in /data/finance",
         "Financial Peace,Financial Tips,Saving Money Quotes,Total Money Makeover,Budgeting Finances,Money Management,Wealth Management,Personal Finance,Making Ideas",
         "Dave Ramsey's 7 Baby Steps: What Are They And Will They Work For You",
         "8fb2af68-543b-4639-8119-de33d28706ed"
        ],
        [
         "finance",
         "If you love budgeting, make sure to give Dave Ramsey's 7 Baby Steps a try. Follow these steps to begin your debt snowball, build an emergency fund, invest and reach riches. I ca… ",
         1,
         "26k",
         "https://i.pinimg.com/originals/1e/9d/90/1e9d906e4e150e3b95187f3b76ea7c71.png",
         5494,
         "image",
         "Living Low Key | Save Money, Make Money, & Frugal Living",
         "Local save in /data/finance",
         "Financial Peace,Financial Tips,Saving Money Quotes,Total Money Makeover,Budgeting Finances,Money Management,Wealth Management,Personal Finance,Making Ideas",
         "Dave Ramsey's 7 Baby Steps: What Are They And Will They Work For You",
         "8fb2af68-543b-4639-8119-de33d28706ed"
        ],
        [
         "finance",
         "If you love budgeting, make sure to give Dave Ramsey's 7 Baby Steps a try. Follow these steps to begin your debt snowball, build an emergency fund, invest and reach riches. I ca… ",
         1,
         "26k",
         "https://i.pinimg.com/originals/1e/9d/90/1e9d906e4e150e3b95187f3b76ea7c71.png",
         5494,
         "image",
         "Living Low Key | Save Money, Make Money, & Frugal Living",
         "Local save in /data/finance",
         "Financial Peace,Financial Tips,Saving Money Quotes,Total Money Makeover,Budgeting Finances,Money Management,Wealth Management,Personal Finance,Making Ideas",
         "Dave Ramsey's 7 Baby Steps: What Are They And Will They Work For You",
         "8fb2af68-543b-4639-8119-de33d28706ed"
        ],
        [
         "finance",
         "If you love budgeting, make sure to give Dave Ramsey's 7 Baby Steps a try. Follow these steps to begin your debt snowball, build an emergency fund, invest and reach riches. I ca… ",
         1,
         "26k",
         "https://i.pinimg.com/originals/1e/9d/90/1e9d906e4e150e3b95187f3b76ea7c71.png",
         5494,
         "image",
         "Living Low Key | Save Money, Make Money, & Frugal Living",
         "Local save in /data/finance",
         "Financial Peace,Financial Tips,Saving Money Quotes,Total Money Makeover,Budgeting Finances,Money Management,Wealth Management,Personal Finance,Making Ideas",
         "Dave Ramsey's 7 Baby Steps: What Are They And Will They Work For You",
         "8fb2af68-543b-4639-8119-de33d28706ed"
        ],
        [
         "christmas",
         "Here are the best DIY Christmas Centerpieces ideas perfect for your Christmas & holiday season home decor. From Christmas Vignettes to Table Centerpieces.",
         1,
         "500k",
         "https://i.pinimg.com/originals/aa/6d/0f/aa6d0f44d7c1c96b998cb9aa6c4446b8.png",
         2418,
         "image",
         "HikenDip",
         "Local save in /data/christmas",
         "Farmhouse Christmas Decor,Rustic Christmas,Christmas Time,Vintage Christmas,Xmas,Primitive Christmas Crafts,Christmas Vignette,Indoor Christmas Decorations,Diy Christmas Ornaments",
         "100 DIY Christmas Centerpieces You'll Love To Decorate Your Home With For The Christmas Season - Hike n Dip",
         "da8745a6-5160-46c4-877d-181d50a729fd"
        ],
        [
         "travel",
         "Are you traveling to Paris during the summer? Find out what to do in Paris, France during the summer. Fun summertime activities in Paris. Enjoy the incredible outdoors when trav… ",
         1,
         "3k",
         "https://i.pinimg.com/originals/6c/4c/90/6c4c90bba27ebf8c8bfe4c1acfb9f07a.jpg",
         9979,
         "image",
         "Petite in Paris",
         "Local save in /data/travel",
         "Torre Eiffel Paris,Tour Eiffel,Picnic In Paris,Hello France,Voyage Europe,Destination Voyage,Beautiful Places To Travel,Travel Aesthetic,Paris Travel",
         "Paris in the Summer. 10 fun things to do in Paris in the Summertime • Petite in Paris",
         "2b2abc85-fc51-481f-8ae6-17681993da28"
        ],
        [
         "home-decor",
         "Holiday mantle decor, Christmas decor, metallic mercury glass style Christmas trees, eucalyptus vine, evergreen pine branches, white neutral holiday decor, cozy mantle for the h… ",
         1,
         "83k",
         "https://i.pinimg.com/originals/9d/82/1a/9d821a80acd8f90c16454e978bd9b115.jpg",
         6145,
         "image",
         "Stylin by Aylin",
         "Local save in /data/home-decor",
         "Winter Home Decor,Christmas Living Room Decor,Living Room Decor Cozy,Christmas Decor,Cozy Fireplace,Rustic Fireplace Decor,Fireplace Decorations,Rustic Room,House Decorations",
         "HOLIDAY MANTLE DECOR - @AMAZON & @TARGET FINDS",
         "82e13a07-db99-43a3-b1c0-89a4b75821da"
        ],
        [
         "education",
         "Podcasts for Teachers or Parents of Teenagers: Teaching teens middle school and high school can feel joyful and rewarding most days, but can also frustrate you with one challeng… ",
         1,
         "25k",
         "https://i.pinimg.com/originals/50/19/31/501931a27ee4d076658980851b995b2c.jpg",
         4315,
         "image",
         "Math Giraffe",
         "Local save in /data/education",
         "Middle School Classroom,High School Students,High School Teachers,Middle School Tips,High School Counseling,Ela Classroom,High School Science,Future Classroom,Google Classroom",
         "Podcasts for Teachers or Parents of Teenagers",
         "21b59ba9-829d-4c33-8c27-4cd4c56d26b8"
        ],
        [
         "education",
         "Podcasts for Teachers or Parents of Teenagers: Teaching teens middle school and high school can feel joyful and rewarding most days, but can also frustrate you with one challeng… ",
         1,
         "25k",
         "https://i.pinimg.com/originals/50/19/31/501931a27ee4d076658980851b995b2c.jpg",
         4315,
         "image",
         "Math Giraffe",
         "Local save in /data/education",
         "Middle School Classroom,High School Students,High School Teachers,Middle School Tips,High School Counseling,Ela Classroom,High School Science,Future Classroom,Google Classroom",
         "Podcasts for Teachers or Parents of Teenagers",
         "21b59ba9-829d-4c33-8c27-4cd4c56d26b8"
        ],
        [
         "education",
         "Podcasts for Teachers or Parents of Teenagers: Teaching teens middle school and high school can feel joyful and rewarding most days, but can also frustrate you with one challeng… ",
         1,
         "25k",
         "https://i.pinimg.com/originals/50/19/31/501931a27ee4d076658980851b995b2c.jpg",
         4315,
         "image",
         "Math Giraffe",
         "Local save in /data/education",
         "Middle School Classroom,High School Students,High School Teachers,Middle School Tips,High School Counseling,Ela Classroom,High School Science,Future Classroom,Google Classroom",
         "Podcasts for Teachers or Parents of Teenagers",
         "21b59ba9-829d-4c33-8c27-4cd4c56d26b8"
        ],
        [
         "education",
         "Podcasts for Teachers or Parents of Teenagers: Teaching teens middle school and high school can feel joyful and rewarding most days, but can also frustrate you with one challeng… ",
         1,
         "25k",
         "https://i.pinimg.com/originals/50/19/31/501931a27ee4d076658980851b995b2c.jpg",
         4315,
         "image",
         "Math Giraffe",
         "Local save in /data/education",
         "Middle School Classroom,High School Students,High School Teachers,Middle School Tips,High School Counseling,Ela Classroom,High School Science,Future Classroom,Google Classroom",
         "Podcasts for Teachers or Parents of Teenagers",
         "21b59ba9-829d-4c33-8c27-4cd4c56d26b8"
        ],
        [
         "event-planning",
         "Sacramento California Wedding 2 Chic Events & Design Jodi Yorston Photography Wilson Vineyards Barn Miosa Couture Yellow Barn Vineyard Outdoor Candles DIY",
         1,
         "6M",
         "https://i.pinimg.com/originals/7e/45/90/7e45905fefa36347e83333fd6d091140.jpg",
         5069,
         "image",
         "Style Me Pretty",
         "Local save in /data/event-planning",
         "60th Anniversary Parties,Anniversary Decorations,Golden Anniversary,25th Wedding Anniversary,Anniversary Pictures,Anniversary Ideas,Birthday Decorations,Event Planning Design,Event Design",
         "The Vault: Curated & Refined Wedding Inspiration",
         "b75b6f87-deb3-444f-b29e-ce9161b2df49"
        ],
        [
         "event-planning",
         "Sacramento California Wedding 2 Chic Events & Design Jodi Yorston Photography Wilson Vineyards Barn Miosa Couture Yellow Barn Vineyard Outdoor Candles DIY",
         1,
         "6M",
         "https://i.pinimg.com/originals/7e/45/90/7e45905fefa36347e83333fd6d091140.jpg",
         5069,
         "image",
         "Style Me Pretty",
         "Local save in /data/event-planning",
         "60th Anniversary Parties,Anniversary Decorations,Golden Anniversary,25th Wedding Anniversary,Anniversary Pictures,Anniversary Ideas,Birthday Decorations,Event Planning Design,Event Design",
         "The Vault: Curated & Refined Wedding Inspiration",
         "b75b6f87-deb3-444f-b29e-ce9161b2df49"
        ],
        [
         "event-planning",
         "Sacramento California Wedding 2 Chic Events & Design Jodi Yorston Photography Wilson Vineyards Barn Miosa Couture Yellow Barn Vineyard Outdoor Candles DIY",
         1,
         "6M",
         "https://i.pinimg.com/originals/7e/45/90/7e45905fefa36347e83333fd6d091140.jpg",
         5069,
         "image",
         "Style Me Pretty",
         "Local save in /data/event-planning",
         "60th Anniversary Parties,Anniversary Decorations,Golden Anniversary,25th Wedding Anniversary,Anniversary Pictures,Anniversary Ideas,Birthday Decorations,Event Planning Design,Event Design",
         "The Vault: Curated & Refined Wedding Inspiration",
         "b75b6f87-deb3-444f-b29e-ce9161b2df49"
        ],
        [
         "mens-fashion",
         "Black And Brown Outfits You Need To Try This Fall Season. The trick with black and brown outfits is to know how to combine colors, fabrics, and shapes to get a cohesive look. So… ",
         1,
         "1M",
         "https://i.pinimg.com/originals/3e/49/09/3e4909c0ccc4dbba3cad83d97eab4a61.png",
         7343,
         "image",
         "Cultura Colectiva",
         "Local save in /data/mens-fashion",
         "Winter Outfits Men,Stylish Mens Outfits,Casual Outfits,Men Casual,Smart Casual,Outfits For Men,Fall Outfits,Mens Winter Boots,Business Casual Men",
         "This Fashion Rule Is Nonsense, And We Should All Forget About It",
         "b8c63a95-6fe8-4d7f-9455-1eef3462fee0"
        ],
        [
         "event-planning",
         "Sacramento California Wedding 2 Chic Events & Design Jodi Yorston Photography Wilson Vineyards Barn Miosa Couture Yellow Barn Vineyard Outdoor Candles DIY",
         1,
         "6M",
         "https://i.pinimg.com/originals/7e/45/90/7e45905fefa36347e83333fd6d091140.jpg",
         5069,
         "image",
         "Style Me Pretty",
         "Local save in /data/event-planning",
         "60th Anniversary Parties,Anniversary Decorations,Golden Anniversary,25th Wedding Anniversary,Anniversary Pictures,Anniversary Ideas,Birthday Decorations,Event Planning Design,Event Design",
         "The Vault: Curated & Refined Wedding Inspiration",
         "b75b6f87-deb3-444f-b29e-ce9161b2df49"
        ],
        [
         "home-decor",
         "Beautiful and easy ways to update every room in your home with fall decor. Plus, my favorite finds in fall decor for 2020!",
         1,
         "92k",
         "https://i.pinimg.com/originals/e5/ae/dc/e5aedc14ce557e3a69f672e0f8c88f6e.png",
         6063,
         "image",
         "Kristen | Lifestyle, Mom Tips & Teacher Stuff Blog",
         "Local save in /data/home-decor",
         "Fall Home Decor,Autumn Home,Fall Decor Outdoor,Front Porch Fall Decor,Home Decor Ideas,Porch Ideas For Fall,Fall Outdoor Decorating,Decorating Ideas For Fall,Fall Front Doors",
         "41 Gorgeous Fall Decor Ideas For Your Home - Chaylor & Mads",
         "60693727-4927-4bd6-a8c5-096a392d63e6"
        ],
        [
         "diy-and-crafts",
         "One thing I love about Crafts is how the evolve! These toilet paper rolls are adorable and modern. I love that something as simple as a recycled toilet paper roll can be taken t… ",
         1,
         "502k",
         "https://i.pinimg.com/originals/c6/cd/0d/c6cd0d04da9cfc11566cfd34eeb1f918.jpg",
         2959,
         "image",
         "CraftGossip.com",
         "Local save in /data/diy-and-crafts",
         "Toilet Paper Roll Crafts,Cardboard Crafts,Diy Paper,Paper Crafting,Toilet Paper Rolls,Cardboard Playhouse,Paper Art,Kids Crafts,Toddler Crafts",
         "The Cutest Toilet Paper Crafts",
         "439cac4b-18e8-4aaa-88c5-edb26a701111"
        ],
        [
         "travel",
         "35 European bucket list destinations for any traveler heading to Europe. From Cinque Terre, Italy to Iceland - there are so many amazing sites to see in Europe.",
         1,
         "28k",
         "https://i.pinimg.com/originals/71/04/1a/71041ad83ede43d9665741e719c58a86.jpg",
         9875,
         "image",
         "Nicki ",
         "Local save in /data/travel",
         "Backpacking Europe,Europe Travel Guide,Travel Guides,Travel Packing,Traveling Europe,Travelling,Travel Backpack,Budget Travel,2 Week Europe Itinerary",
         "European Bucket List: 35 Things NOT To Miss When Traveling Europe",
         "782dcbad-ff91-40a6-ba60-216efe29adb7"
        ],
        [
         "art",
         "Fashion designer Issac Mizrahi’s Greenwich Village home is an amalgamation of three apartments that was 20 years in the making",
         1,
         "3M",
         "https://i.pinimg.com/originals/f4/6c/54/f46c546a2e480022a42d842b7dca157e.jpg",
         428,
         "image",
         "Architectural Digest",
         "Local save in /data/art",
         "Modern Art,Contemporary Art,Contemporary Kitchens,Contemporary Bedroom,New York City Apartment,Manhattan Apartment,Art Moderne,Architectural Digest,Painting Inspiration",
         "Fashion Designer Isaac Mizrahi’s Updated 1930s New York City Apartment",
         "610b3f83-9fe0-469d-946c-d16b577fca71"
        ],
        [
         "diy-and-crafts",
         "HELPFUL RESOURCES – Check out my resin colorants resources page here with links to all the products mentioned in this article (and more). Let me know if you have any that you lo… ",
         1,
         "6k",
         "https://i.pinimg.com/originals/d4/12/78/d4127833023ca32600571ddca16f1556.jpg",
         3454,
         "image",
         "Mixed Media Crafts",
         "Local save in /data/diy-and-crafts",
         "Epoxy Resin Art,Diy Resin Art,Diy Resin Crafts,Resin Molds,Ice Resin,Resin Pour,Diy Epoxy,Diy Resin Painting,Diy Resin Dice",
         "What can you use to color resin?",
         "46bd3f86-b09d-4e29-9033-7ff2df595e51"
        ],
        [
         "finance",
         "Description Coupon Organizer in a fun colorful fabric -island oasis, Great Size for the \"basic\" couponer - holds up to 500 coupons with ease, and is made long enough so that you… ",
         1,
         "0",
         "https://i.pinimg.com/originals/65/bb/ea/65bbeaf458907bb079317d8303c4fa0e.jpg",
         5730,
         "image",
         "Consuelo Aguirre",
         "Local save in /data/finance",
         "Grocery Items,Grocery Coupons,Care Organization,Coupon Organization,Extreme Couponing,Couponing 101,Life Binder,Save My Money,Love Coupons",
         "Island Oasis Coupon Organizer",
         "1e1f0c8b-9fcf-460b-9154-c775827206eb"
        ],
        [
         "finance",
         "Description Coupon Organizer in a fun colorful fabric -island oasis, Great Size for the \"basic\" couponer - holds up to 500 coupons with ease, and is made long enough so that you… ",
         1,
         "0",
         "https://i.pinimg.com/originals/65/bb/ea/65bbeaf458907bb079317d8303c4fa0e.jpg",
         5730,
         "image",
         "Consuelo Aguirre",
         "Local save in /data/finance",
         "Grocery Items,Grocery Coupons,Care Organization,Coupon Organization,Extreme Couponing,Couponing 101,Life Binder,Save My Money,Love Coupons",
         "Island Oasis Coupon Organizer",
         "1e1f0c8b-9fcf-460b-9154-c775827206eb"
        ],
        [
         "finance",
         "Description Coupon Organizer in a fun colorful fabric -island oasis, Great Size for the \"basic\" couponer - holds up to 500 coupons with ease, and is made long enough so that you… ",
         1,
         "0",
         "https://i.pinimg.com/originals/65/bb/ea/65bbeaf458907bb079317d8303c4fa0e.jpg",
         5730,
         "image",
         "Consuelo Aguirre",
         "Local save in /data/finance",
         "Grocery Items,Grocery Coupons,Care Organization,Coupon Organization,Extreme Couponing,Couponing 101,Life Binder,Save My Money,Love Coupons",
         "Island Oasis Coupon Organizer",
         "1e1f0c8b-9fcf-460b-9154-c775827206eb"
        ],
        [
         "finance",
         "Description Coupon Organizer in a fun colorful fabric -island oasis, Great Size for the \"basic\" couponer - holds up to 500 coupons with ease, and is made long enough so that you… ",
         1,
         "0",
         "https://i.pinimg.com/originals/65/bb/ea/65bbeaf458907bb079317d8303c4fa0e.jpg",
         5730,
         "image",
         "Consuelo Aguirre",
         "Local save in /data/finance",
         "Grocery Items,Grocery Coupons,Care Organization,Coupon Organization,Extreme Couponing,Couponing 101,Life Binder,Save My Money,Love Coupons",
         "Island Oasis Coupon Organizer",
         "1e1f0c8b-9fcf-460b-9154-c775827206eb"
        ],
        [
         "christmas",
         "20 Christmas Decorating Ideas We Bet You Haven't Thought Of via @PureWow",
         1,
         "868k",
         "https://i.pinimg.com/originals/e9/b9/f0/e9b9f01cc3b2cf41948b45854335396c.jpg",
         2074,
         "image",
         "PureWow",
         "Local save in /data/christmas",
         "Holiday Centerpieces,Xmas Decorations,Centerpiece Ideas,Table Centerpieces,Valentine Decorations,Wedding Centerpieces,Outdoor Decorations,Christmas Centerpieces With Candles,Christmas Dining Table Decorations",
         "35 Christmas Decorating Ideas We Bet You Haven't Thought Of",
         "86ed09a7-842d-496d-9501-010c654eb340"
        ],
        [
         "diy-and-crafts",
         "Keep the kids busy this summer with these easy diy crafts and projects. Creative and…",
         1,
         "124k",
         "https://i.pinimg.com/originals/b3/bc/e2/b3bce2964e8c8975387b39660eed5f16.jpg",
         2863,
         "image",
         "Of Life & Lisa | Lifestyle Blog",
         "Local save in /data/diy-and-crafts",
         "Summer Crafts For Kids,Fun Crafts For Kids,Summer Kids,Toddler Crafts,Crafts To Do,Diy For Kids,Summer Snow,Diys For Summer,Craft Ideas For Girls",
         "25 Super Fun Summer Crafts for Kids - Of Life and Lisa",
         "9bf39437-42a6-4f02-99a0-9a0383d8cd70"
        ],
        [
         "diy-and-crafts",
         "Keep the kids busy this summer with these easy diy crafts and projects. Creative and…",
         1,
         "124k",
         "https://i.pinimg.com/originals/b3/bc/e2/b3bce2964e8c8975387b39660eed5f16.jpg",
         2863,
         "image",
         "Of Life & Lisa | Lifestyle Blog",
         "Local save in /data/diy-and-crafts",
         "Summer Crafts For Kids,Fun Crafts For Kids,Summer Kids,Toddler Crafts,Crafts To Do,Diy For Kids,Summer Snow,Diys For Summer,Craft Ideas For Girls",
         "25 Super Fun Summer Crafts for Kids - Of Life and Lisa",
         "9bf39437-42a6-4f02-99a0-9a0383d8cd70"
        ],
        [
         "diy-and-crafts",
         "Keep the kids busy this summer with these easy diy crafts and projects. Creative and…",
         1,
         "124k",
         "https://i.pinimg.com/originals/b3/bc/e2/b3bce2964e8c8975387b39660eed5f16.jpg",
         2863,
         "image",
         "Of Life & Lisa | Lifestyle Blog",
         "Local save in /data/diy-and-crafts",
         "Summer Crafts For Kids,Fun Crafts For Kids,Summer Kids,Toddler Crafts,Crafts To Do,Diy For Kids,Summer Snow,Diys For Summer,Craft Ideas For Girls",
         "25 Super Fun Summer Crafts for Kids - Of Life and Lisa",
         "9bf39437-42a6-4f02-99a0-9a0383d8cd70"
        ],
        [
         "diy-and-crafts",
         "Keep the kids busy this summer with these easy diy crafts and projects. Creative and…",
         1,
         "124k",
         "https://i.pinimg.com/originals/b3/bc/e2/b3bce2964e8c8975387b39660eed5f16.jpg",
         2863,
         "image",
         "Of Life & Lisa | Lifestyle Blog",
         "Local save in /data/diy-and-crafts",
         "Summer Crafts For Kids,Fun Crafts For Kids,Summer Kids,Toddler Crafts,Crafts To Do,Diy For Kids,Summer Snow,Diys For Summer,Craft Ideas For Girls",
         "25 Super Fun Summer Crafts for Kids - Of Life and Lisa",
         "9bf39437-42a6-4f02-99a0-9a0383d8cd70"
        ],
        [
         "diy-and-crafts",
         "A fun space activity for kids. Preshoolers and kindergartners will love making their own alien spacecraft!",
         1,
         "192k",
         "https://i.pinimg.com/originals/6f/e8/aa/6fe8aa405513c6d2f77b5f47d17cdce8.jpg",
         2923,
         "image",
         "The Crafting Chicks",
         "Local save in /data/diy-and-crafts",
         "Paper Plate Crafts For Kids,Fun Crafts For Kids,Summer Crafts,Toddler Crafts,Art For Kids,Outer Space Crafts For Kids,Kid Crafts,Space Kids,Back To School Crafts For Kids",
         "UFO Paper Plate Craft",
         "52fa3af5-24a4-4ccb-8f17-9c3eb12327ee"
        ],
        [
         "diy-and-crafts",
         "A fun space activity for kids. Preshoolers and kindergartners will love making their own alien spacecraft!",
         1,
         "192k",
         "https://i.pinimg.com/originals/6f/e8/aa/6fe8aa405513c6d2f77b5f47d17cdce8.jpg",
         2923,
         "image",
         "The Crafting Chicks",
         "Local save in /data/diy-and-crafts",
         "Paper Plate Crafts For Kids,Fun Crafts For Kids,Summer Crafts,Toddler Crafts,Art For Kids,Outer Space Crafts For Kids,Kid Crafts,Space Kids,Back To School Crafts For Kids",
         "UFO Paper Plate Craft",
         "52fa3af5-24a4-4ccb-8f17-9c3eb12327ee"
        ],
        [
         "diy-and-crafts",
         "A fun space activity for kids. Preshoolers and kindergartners will love making their own alien spacecraft!",
         1,
         "192k",
         "https://i.pinimg.com/originals/6f/e8/aa/6fe8aa405513c6d2f77b5f47d17cdce8.jpg",
         2923,
         "image",
         "The Crafting Chicks",
         "Local save in /data/diy-and-crafts",
         "Paper Plate Crafts For Kids,Fun Crafts For Kids,Summer Crafts,Toddler Crafts,Art For Kids,Outer Space Crafts For Kids,Kid Crafts,Space Kids,Back To School Crafts For Kids",
         "UFO Paper Plate Craft",
         "52fa3af5-24a4-4ccb-8f17-9c3eb12327ee"
        ],
        [
         "tattoos",
         "Koi fish tattoos are a popular choice for men who want to make a statement, thanks to their rich symbolism and bold design.",
         1,
         "211k",
         "https://i.pinimg.com/originals/8a/0c/0a/8a0c0a7b6236565c519acd41ad1a52c0.jpg",
         8731,
         "image",
         "TheTrendSpotter",
         "Local save in /data/tattoos",
         "Dr Tattoo,Wörter Tattoos,Pisces Tattoos,Tatoo Art,Dream Tattoos,Dope Tattoos,Mini Tattoos,Finger Tattoos,Body Art Tattoos",
         "20 Koi Fish Tattoos For Lucky Men",
         "ea760f71-febf-4023-b592-d17396659039"
        ],
        [
         "tattoos",
         "Koi fish tattoos are a popular choice for men who want to make a statement, thanks to their rich symbolism and bold design.",
         1,
         "211k",
         "https://i.pinimg.com/originals/8a/0c/0a/8a0c0a7b6236565c519acd41ad1a52c0.jpg",
         8731,
         "image",
         "TheTrendSpotter",
         "Local save in /data/tattoos",
         "Dr Tattoo,Wörter Tattoos,Pisces Tattoos,Tatoo Art,Dream Tattoos,Dope Tattoos,Mini Tattoos,Finger Tattoos,Body Art Tattoos",
         "20 Koi Fish Tattoos For Lucky Men",
         "ea760f71-febf-4023-b592-d17396659039"
        ],
        [
         "tattoos",
         "Koi fish tattoos are a popular choice for men who want to make a statement, thanks to their rich symbolism and bold design.",
         1,
         "211k",
         "https://i.pinimg.com/originals/8a/0c/0a/8a0c0a7b6236565c519acd41ad1a52c0.jpg",
         8731,
         "image",
         "TheTrendSpotter",
         "Local save in /data/tattoos",
         "Dr Tattoo,Wörter Tattoos,Pisces Tattoos,Tatoo Art,Dream Tattoos,Dope Tattoos,Mini Tattoos,Finger Tattoos,Body Art Tattoos",
         "20 Koi Fish Tattoos For Lucky Men",
         "ea760f71-febf-4023-b592-d17396659039"
        ],
        [
         "tattoos",
         "Koi fish tattoos are a popular choice for men who want to make a statement, thanks to their rich symbolism and bold design.",
         1,
         "211k",
         "https://i.pinimg.com/originals/8a/0c/0a/8a0c0a7b6236565c519acd41ad1a52c0.jpg",
         8731,
         "image",
         "TheTrendSpotter",
         "Local save in /data/tattoos",
         "Dr Tattoo,Wörter Tattoos,Pisces Tattoos,Tatoo Art,Dream Tattoos,Dope Tattoos,Mini Tattoos,Finger Tattoos,Body Art Tattoos",
         "20 Koi Fish Tattoos For Lucky Men",
         "ea760f71-febf-4023-b592-d17396659039"
        ],
        [
         "quotes",
         "#lovequotes #matchmaker #matchmadeinheaven #loveyourself #respectyourself",
         1,
         "51k",
         "https://i.pinimg.com/originals/c6/64/ee/c664ee71524fb5a6e7b7b49233f93b43.png",
         8304,
         "image",
         "Commitment Connection",
         "Local save in /data/quotes",
         "Wise Quotes,Quotable Quotes,Words Quotes,Wise Words,Quotes To Live By,Great Quotes,Motivational Quotes,Inspirational Quotes,Funny Quotes",
         "The #1 Reason You’re Not His Priority Anymore - Matthew Coast",
         "5b6d0913-25e4-43ab-839d-85d5516f78a4"
        ],
        [
         "quotes",
         "#lovequotes #matchmaker #matchmadeinheaven #loveyourself #respectyourself",
         1,
         "51k",
         "https://i.pinimg.com/originals/c6/64/ee/c664ee71524fb5a6e7b7b49233f93b43.png",
         8304,
         "image",
         "Commitment Connection",
         "Local save in /data/quotes",
         "Wise Quotes,Quotable Quotes,Words Quotes,Wise Words,Quotes To Live By,Great Quotes,Motivational Quotes,Inspirational Quotes,Funny Quotes",
         "The #1 Reason You’re Not His Priority Anymore - Matthew Coast",
         "5b6d0913-25e4-43ab-839d-85d5516f78a4"
        ],
        [
         "quotes",
         "#lovequotes #matchmaker #matchmadeinheaven #loveyourself #respectyourself",
         1,
         "51k",
         "https://i.pinimg.com/originals/c6/64/ee/c664ee71524fb5a6e7b7b49233f93b43.png",
         8304,
         "image",
         "Commitment Connection",
         "Local save in /data/quotes",
         "Wise Quotes,Quotable Quotes,Words Quotes,Wise Words,Quotes To Live By,Great Quotes,Motivational Quotes,Inspirational Quotes,Funny Quotes",
         "The #1 Reason You’re Not His Priority Anymore - Matthew Coast",
         "5b6d0913-25e4-43ab-839d-85d5516f78a4"
        ],
        [
         "quotes",
         "#lovequotes #matchmaker #matchmadeinheaven #loveyourself #respectyourself",
         1,
         "51k",
         "https://i.pinimg.com/originals/c6/64/ee/c664ee71524fb5a6e7b7b49233f93b43.png",
         8304,
         "image",
         "Commitment Connection",
         "Local save in /data/quotes",
         "Wise Quotes,Quotable Quotes,Words Quotes,Wise Words,Quotes To Live By,Great Quotes,Motivational Quotes,Inspirational Quotes,Funny Quotes",
         "The #1 Reason You’re Not His Priority Anymore - Matthew Coast",
         "5b6d0913-25e4-43ab-839d-85d5516f78a4"
        ],
        [
         "mens-fashion",
         "imgentleboss: “ - More about men’s fashion at @Gentleboss - GB’s Facebook - ”",
         1,
         "940",
         "https://i.pinimg.com/originals/e7/6e/8e/e76e8ed6cc838b84a934c6948a5caff7.jpg",
         7554,
         "image",
         "iElylike ..✿◕‿◕✿ஐ✿◕‿◕✿",
         "Local save in /data/mens-fashion",
         "Mens Fashion Blog,Look Fashion,Autumn Fashion,Fashion News,Fashion Sale,80s Fashion,Paris Fashion,Runway Fashion,Fashion Trends",
         "Craig Style",
         "c6fa12f4-0d4a-4b07-a335-5bf9f37f8281"
        ],
        [
         "beauty",
         "Instantly create the look of lash extensions with this award-winning, best-selling mascara that won't clump, flake or smudge. Available in 3 shades!",
         1,
         "43k",
         "https://i.pinimg.com/videos/thumbnails/originals/69/84/e2/6984e20f3e262098fa9c0614c3453254.0000001.jpg",
         1313,
         "video",
         "Thrive Causemetics",
         "Local save in /data/beauty",
         "N,o, ,T,a,g,s, ,A,v,a,i,l,a,b,l,e",
         "Liquid Lash Extensions Mascara",
         "44662045-e891-4821-8a19-ebe7eedd371a"
        ],
        [
         "beauty",
         "Instantly create the look of lash extensions with this award-winning, best-selling mascara that won't clump, flake or smudge. Available in 3 shades!",
         1,
         "43k",
         "https://i.pinimg.com/videos/thumbnails/originals/69/84/e2/6984e20f3e262098fa9c0614c3453254.0000001.jpg",
         1313,
         "video",
         "Thrive Causemetics",
         "Local save in /data/beauty",
         "N,o, ,T,a,g,s, ,A,v,a,i,l,a,b,l,e",
         "Liquid Lash Extensions Mascara",
         "44662045-e891-4821-8a19-ebe7eedd371a"
        ],
        [
         "beauty",
         "Instantly create the look of lash extensions with this award-winning, best-selling mascara that won't clump, flake or smudge. Available in 3 shades!",
         1,
         "43k",
         "https://i.pinimg.com/videos/thumbnails/originals/69/84/e2/6984e20f3e262098fa9c0614c3453254.0000001.jpg",
         1313,
         "video",
         "Thrive Causemetics",
         "Local save in /data/beauty",
         "N,o, ,T,a,g,s, ,A,v,a,i,l,a,b,l,e",
         "Liquid Lash Extensions Mascara",
         "44662045-e891-4821-8a19-ebe7eedd371a"
        ],
        [
         "beauty",
         "Instantly create the look of lash extensions with this award-winning, best-selling mascara that won't clump, flake or smudge. Available in 3 shades!",
         1,
         "43k",
         "https://i.pinimg.com/videos/thumbnails/originals/69/84/e2/6984e20f3e262098fa9c0614c3453254.0000001.jpg",
         1313,
         "video",
         "Thrive Causemetics",
         "Local save in /data/beauty",
         "N,o, ,T,a,g,s, ,A,v,a,i,l,a,b,l,e",
         "Liquid Lash Extensions Mascara",
         "44662045-e891-4821-8a19-ebe7eedd371a"
        ],
        [
         "vehicles",
         "1937 Jaguar SS100 - 2 1/2 Litre Roadster, one of the most sought after pre-war sports cars",
         1,
         "8k",
         "https://i.pinimg.com/originals/26/81/a7/2681a71bd0c8f7fd0ab79c455338a49a.jpg",
         10625,
         "image",
         "hobbyDB",
         "Local save in /data/vehicles",
         "Jaguar Type E,Jaguar Xk,Jaguar Cars,Jaguar Roadster,Jaguar Sport,Retro Cars,Vintage Cars,Antique Cars,British Sports Cars",
         "Jaguar Type E",
         "d31885b7-742a-4e2a-bbb7-ac5f9d334340"
        ],
        [
         "vehicles",
         "Nissan GT-R. Sick.",
         1,
         "437",
         "https://i.pinimg.com/originals/0d/29/9f/0d299f3df020395aa7ce8387f40fbeed.jpg",
         10794,
         "image",
         "Ray Uyemura",
         "Local save in /data/vehicles",
         "Lowrider,Old Vintage Cars,Antique Cars,Austin Martin,Nissan Gtr Black,Jaguar,1959 Cadillac,Cadillac Ct6,Old School Cars",
         "TireBuyer",
         "c4bd2577-a7bb-4409-bb7a-17d5ed7e1cf1"
        ],
        [
         "vehicles",
         "Nissan GT-R. Sick.",
         1,
         "437",
         "https://i.pinimg.com/originals/0d/29/9f/0d299f3df020395aa7ce8387f40fbeed.jpg",
         10794,
         "image",
         "Ray Uyemura",
         "Local save in /data/vehicles",
         "Lowrider,Old Vintage Cars,Antique Cars,Austin Martin,Nissan Gtr Black,Jaguar,1959 Cadillac,Cadillac Ct6,Old School Cars",
         "TireBuyer",
         "c4bd2577-a7bb-4409-bb7a-17d5ed7e1cf1"
        ],
        [
         "vehicles",
         "Nissan GT-R. Sick.",
         1,
         "437",
         "https://i.pinimg.com/originals/0d/29/9f/0d299f3df020395aa7ce8387f40fbeed.jpg",
         10794,
         "image",
         "Ray Uyemura",
         "Local save in /data/vehicles",
         "Lowrider,Old Vintage Cars,Antique Cars,Austin Martin,Nissan Gtr Black,Jaguar,1959 Cadillac,Cadillac Ct6,Old School Cars",
         "TireBuyer",
         "c4bd2577-a7bb-4409-bb7a-17d5ed7e1cf1"
        ],
        [
         "vehicles",
         "Nissan GT-R. Sick.",
         1,
         "437",
         "https://i.pinimg.com/originals/0d/29/9f/0d299f3df020395aa7ce8387f40fbeed.jpg",
         10794,
         "image",
         "Ray Uyemura",
         "Local save in /data/vehicles",
         "Lowrider,Old Vintage Cars,Antique Cars,Austin Martin,Nissan Gtr Black,Jaguar,1959 Cadillac,Cadillac Ct6,Old School Cars",
         "TireBuyer",
         "c4bd2577-a7bb-4409-bb7a-17d5ed7e1cf1"
        ],
        [
         "diy-and-crafts",
         "No description available Story format",
         0,
         "User Info Error",
         "Image src error.",
         3089,
         "multi-video(story page format)",
         "User Info Error",
         "Local save in /data/diy-and-crafts",
         "N,o, ,T,a,g,s, ,A,v,a,i,l,a,b,l,e",
         "No Title Data Available",
         "88f9227e-88d0-4b1c-b0be-bcfc3028b8e2"
        ],
        [
         "diy-and-crafts",
         "No description available Story format",
         0,
         "User Info Error",
         "Image src error.",
         3089,
         "multi-video(story page format)",
         "User Info Error",
         "Local save in /data/diy-and-crafts",
         "N,o, ,T,a,g,s, ,A,v,a,i,l,a,b,l,e",
         "No Title Data Available",
         "88f9227e-88d0-4b1c-b0be-bcfc3028b8e2"
        ],
        [
         "diy-and-crafts",
         "No description available Story format",
         0,
         "User Info Error",
         "Image src error.",
         3089,
         "multi-video(story page format)",
         "User Info Error",
         "Local save in /data/diy-and-crafts",
         "N,o, ,T,a,g,s, ,A,v,a,i,l,a,b,l,e",
         "No Title Data Available",
         "88f9227e-88d0-4b1c-b0be-bcfc3028b8e2"
        ],
        [
         "mens-fashion",
         "No description available Story format",
         0,
         "User Info Error",
         "Image src error.",
         7528,
         "multi-video(story page format)",
         "User Info Error",
         "Local save in /data/mens-fashion",
         "N,o, ,T,a,g,s, ,A,v,a,i,l,a,b,l,e",
         "No Title Data Available",
         "fbe53c66-3442-4773-b19e-d3ec6f54dddf"
        ],
        [
         "mens-fashion",
         "No description available Story format",
         0,
         "User Info Error",
         "Image src error.",
         7528,
         "multi-video(story page format)",
         "User Info Error",
         "Local save in /data/mens-fashion",
         "N,o, ,T,a,g,s, ,A,v,a,i,l,a,b,l,e",
         "No Title Data Available",
         "fbe53c66-3442-4773-b19e-d3ec6f54dddf"
        ],
        [
         "mens-fashion",
         "No description available Story format",
         0,
         "User Info Error",
         "Image src error.",
         7528,
         "multi-video(story page format)",
         "User Info Error",
         "Local save in /data/mens-fashion",
         "N,o, ,T,a,g,s, ,A,v,a,i,l,a,b,l,e",
         "No Title Data Available",
         "fbe53c66-3442-4773-b19e-d3ec6f54dddf"
        ],
        [
         "mens-fashion",
         "No description available Story format",
         0,
         "User Info Error",
         "Image src error.",
         7528,
         "multi-video(story page format)",
         "User Info Error",
         "Local save in /data/mens-fashion",
         "N,o, ,T,a,g,s, ,A,v,a,i,l,a,b,l,e",
         "No Title Data Available",
         "fbe53c66-3442-4773-b19e-d3ec6f54dddf"
        ]
       ],
       "datasetInfos": [],
       "dbfsResultPath": null,
       "isJsonSchema": true,
       "metadata": {},
       "overflow": false,
       "plotOptions": {
        "customPlotOptions": {},
        "displayType": "table",
        "pivotAggregation": null,
        "pivotColumns": null,
        "xColumns": null,
        "yColumns": null
       },
       "removedWidgets": [],
       "schema": [
        {
         "metadata": "{}",
         "name": "category",
         "type": "\"string\""
        },
        {
         "metadata": "{}",
         "name": "description",
         "type": "\"string\""
        },
        {
         "metadata": "{}",
         "name": "downloaded",
         "type": "\"long\""
        },
        {
         "metadata": "{}",
         "name": "follower_count",
         "type": "\"string\""
        },
        {
         "metadata": "{}",
         "name": "image_src",
         "type": "\"string\""
        },
        {
         "metadata": "{}",
         "name": "index",
         "type": "\"long\""
        },
        {
         "metadata": "{}",
         "name": "is_image_or_video",
         "type": "\"string\""
        },
        {
         "metadata": "{}",
         "name": "poster_name",
         "type": "\"string\""
        },
        {
         "metadata": "{}",
         "name": "save_location",
         "type": "\"string\""
        },
        {
         "metadata": "{}",
         "name": "tag_list",
         "type": "\"string\""
        },
        {
         "metadata": "{}",
         "name": "title",
         "type": "\"string\""
        },
        {
         "metadata": "{}",
         "name": "unique_id",
         "type": "\"string\""
        }
       ],
       "type": "table"
      }
     },
     "output_type": "display_data"
    },
    {
     "output_type": "display_data",
     "data": {
      "text/html": [
       "<style scoped>\n",
       "  .table-result-container {\n",
       "    max-height: 300px;\n",
       "    overflow: auto;\n",
       "  }\n",
       "  table, th, td {\n",
       "    border: 1px solid black;\n",
       "    border-collapse: collapse;\n",
       "  }\n",
       "  th, td {\n",
       "    padding: 5px;\n",
       "  }\n",
       "  th {\n",
       "    text-align: left;\n",
       "  }\n",
       "</style><div class='table-result-container'><table class='table-result'><thead style='background-color: white'><tr><th>country</th><th>ind</th><th>latitude</th><th>longitude</th><th>timestamp</th></tr></thead><tbody><tr><td>Antarctica (the territory South of 60 deg S)</td><td>2418</td><td>-88.4642</td><td>-171.061</td><td>2022-05-27T11:30:59</td></tr><tr><td>Cocos (Keeling) Islands</td><td>10794</td><td>-89.5236</td><td>-154.567</td><td>2022-01-01T02:26:50</td></tr><tr><td>Cocos (Keeling) Islands</td><td>10794</td><td>-89.5236</td><td>-154.567</td><td>2022-01-01T02:26:50</td></tr><tr><td>Cocos (Keeling) Islands</td><td>10794</td><td>-89.5236</td><td>-154.567</td><td>2022-01-01T02:26:50</td></tr><tr><td>Central African Republic</td><td>2074</td><td>-52.3213</td><td>-50.11</td><td>2019-11-03T05:41:59</td></tr><tr><td>Dominican Republic</td><td>9979</td><td>14.9967</td><td>-120.682</td><td>2018-07-18T19:01:46</td></tr><tr><td>Cote d'Ivoire</td><td>2923</td><td>-84.6302</td><td>-164.507</td><td>2019-09-08T22:53:09</td></tr><tr><td>Cote d'Ivoire</td><td>2923</td><td>-84.6302</td><td>-164.507</td><td>2019-09-08T22:53:09</td></tr><tr><td>French Guiana</td><td>8304</td><td>-28.8852</td><td>-164.87</td><td>2019-09-13T04:50:29</td></tr><tr><td>Cote d'Ivoire</td><td>4315</td><td>-45.8508</td><td>66.1003</td><td>2019-12-15T03:51:28</td></tr><tr><td>French Guiana</td><td>8304</td><td>-28.8852</td><td>-164.87</td><td>2019-09-13T04:50:29</td></tr><tr><td>Cote d'Ivoire</td><td>4315</td><td>-45.8508</td><td>66.1003</td><td>2019-12-15T03:51:28</td></tr><tr><td>French Guiana</td><td>8304</td><td>-28.8852</td><td>-164.87</td><td>2019-09-13T04:50:29</td></tr><tr><td>Cote d'Ivoire</td><td>4315</td><td>-45.8508</td><td>66.1003</td><td>2019-12-15T03:51:28</td></tr><tr><td>Azerbaijan</td><td>5069</td><td>-63.0063</td><td>-157.474</td><td>2021-03-20T09:32:44</td></tr><tr><td>Azerbaijan</td><td>5069</td><td>-63.0063</td><td>-157.474</td><td>2021-03-20T09:32:44</td></tr><tr><td>Mozambique</td><td>6145</td><td>-65.9079</td><td>-143.845</td><td>2019-12-05T02:09:44</td></tr><tr><td>Azerbaijan</td><td>5069</td><td>-63.0063</td><td>-157.474</td><td>2021-03-20T09:32:44</td></tr><tr><td>Bangladesh</td><td>428</td><td>-83.4105</td><td>-150.788</td><td>2020-09-27T18:46:41</td></tr><tr><td>Australia</td><td>7343</td><td>-65.4428</td><td>-161.684</td><td>2018-08-06T12:17:07</td></tr><tr><td>Bulgaria</td><td>5494</td><td>-82.6768</td><td>-129.202</td><td>2021-07-21T02:02:35</td></tr><tr><td>Bulgaria</td><td>5494</td><td>-82.6768</td><td>-129.202</td><td>2021-07-21T02:02:35</td></tr><tr><td>Anguilla</td><td>6063</td><td>-89.1797</td><td>-174.015</td><td>2021-07-20T09:02:47</td></tr><tr><td>Cambodia</td><td>3454</td><td>-0.375174</td><td>49.8106</td><td>2021-07-25T02:20:29</td></tr><tr><td>Jamaica</td><td>10625</td><td>-84.4944</td><td>-81.0613</td><td>2018-07-13T11:51:15</td></tr><tr><td>Barbados</td><td>9875</td><td>-74.3382</td><td>-110.484</td><td>2020-03-20T13:03:18</td></tr><tr><td>Bulgaria</td><td>5494</td><td>-82.6768</td><td>-129.202</td><td>2021-07-21T02:02:35</td></tr><tr><td>Albania</td><td>7528</td><td>-89.9787</td><td>-173.293</td><td>2020-08-28T03:52:47</td></tr><tr><td>Armenia</td><td>2863</td><td>-5.34445</td><td>-177.924</td><td>2020-04-27T13:34:16</td></tr><tr><td>Colombia</td><td>5730</td><td>-77.015</td><td>-101.437</td><td>2021-04-19T17:37:03</td></tr><tr><td>Albania</td><td>3089</td><td>-89.9787</td><td>-173.293</td><td>2018-02-28T05:31:29</td></tr><tr><td>Albania</td><td>7528</td><td>-89.9787</td><td>-173.293</td><td>2020-08-28T03:52:47</td></tr><tr><td>Armenia</td><td>2863</td><td>-5.34445</td><td>-177.924</td><td>2020-04-27T13:34:16</td></tr><tr><td>Colombia</td><td>5730</td><td>-77.015</td><td>-101.437</td><td>2021-04-19T17:37:03</td></tr><tr><td>Albania</td><td>3089</td><td>-89.9787</td><td>-173.293</td><td>2018-02-28T05:31:29</td></tr><tr><td>Austria</td><td>10138</td><td>-72.142</td><td>-74.3545</td><td>2019-08-03T00:59:29</td></tr><tr><td>Albania</td><td>7528</td><td>-89.9787</td><td>-173.293</td><td>2020-08-28T03:52:47</td></tr><tr><td>Armenia</td><td>2863</td><td>-5.34445</td><td>-177.924</td><td>2020-04-27T13:34:16</td></tr><tr><td>Colombia</td><td>5730</td><td>-77.015</td><td>-101.437</td><td>2021-04-19T17:37:03</td></tr><tr><td>Maldives</td><td>1313</td><td>77.0447</td><td>61.9119</td><td>2018-06-26T02:39:25</td></tr><tr><td>Maldives</td><td>1313</td><td>77.0447</td><td>61.9119</td><td>2018-06-26T02:39:25</td></tr><tr><td>Angola</td><td>2959</td><td>-68.0095</td><td>-157.227</td><td>2019-08-19T08:22:02</td></tr><tr><td>Armenia</td><td>3156</td><td>-84.738</td><td>-160.795</td><td>2018-01-13T19:33:49</td></tr><tr><td>Maldives</td><td>1313</td><td>77.0447</td><td>61.9119</td><td>2018-06-26T02:39:25</td></tr><tr><td>Sudan</td><td>7554</td><td>-51.2172</td><td>-77.9768</td><td>2019-03-20T03:15:07</td></tr><tr><td>Aruba</td><td>8731</td><td>-83.104</td><td>-171.302</td><td>2020-07-17T04:39:09</td></tr><tr><td>Aruba</td><td>8731</td><td>-83.104</td><td>-171.302</td><td>2020-07-17T04:39:09</td></tr><tr><td>Aruba</td><td>8731</td><td>-83.104</td><td>-171.302</td><td>2020-07-17T04:39:09</td></tr></tbody></table></div>"
      ]
     },
     "metadata": {
      "application/vnd.databricks.v1+output": {
       "addedWidgets": {},
       "aggData": [],
       "aggError": "",
       "aggOverflow": false,
       "aggSchema": [],
       "aggSeriesLimitReached": false,
       "aggType": "",
       "arguments": {},
       "columnCustomDisplayInfos": {},
       "data": [
        [
         "Antarctica (the territory South of 60 deg S)",
         2418,
         -88.4642,
         -171.061,
         "2022-05-27T11:30:59"
        ],
        [
         "Cocos (Keeling) Islands",
         10794,
         -89.5236,
         -154.567,
         "2022-01-01T02:26:50"
        ],
        [
         "Cocos (Keeling) Islands",
         10794,
         -89.5236,
         -154.567,
         "2022-01-01T02:26:50"
        ],
        [
         "Cocos (Keeling) Islands",
         10794,
         -89.5236,
         -154.567,
         "2022-01-01T02:26:50"
        ],
        [
         "Central African Republic",
         2074,
         -52.3213,
         -50.11,
         "2019-11-03T05:41:59"
        ],
        [
         "Dominican Republic",
         9979,
         14.9967,
         -120.682,
         "2018-07-18T19:01:46"
        ],
        [
         "Cote d'Ivoire",
         2923,
         -84.6302,
         -164.507,
         "2019-09-08T22:53:09"
        ],
        [
         "Cote d'Ivoire",
         2923,
         -84.6302,
         -164.507,
         "2019-09-08T22:53:09"
        ],
        [
         "French Guiana",
         8304,
         -28.8852,
         -164.87,
         "2019-09-13T04:50:29"
        ],
        [
         "Cote d'Ivoire",
         4315,
         -45.8508,
         66.1003,
         "2019-12-15T03:51:28"
        ],
        [
         "French Guiana",
         8304,
         -28.8852,
         -164.87,
         "2019-09-13T04:50:29"
        ],
        [
         "Cote d'Ivoire",
         4315,
         -45.8508,
         66.1003,
         "2019-12-15T03:51:28"
        ],
        [
         "French Guiana",
         8304,
         -28.8852,
         -164.87,
         "2019-09-13T04:50:29"
        ],
        [
         "Cote d'Ivoire",
         4315,
         -45.8508,
         66.1003,
         "2019-12-15T03:51:28"
        ],
        [
         "Azerbaijan",
         5069,
         -63.0063,
         -157.474,
         "2021-03-20T09:32:44"
        ],
        [
         "Azerbaijan",
         5069,
         -63.0063,
         -157.474,
         "2021-03-20T09:32:44"
        ],
        [
         "Mozambique",
         6145,
         -65.9079,
         -143.845,
         "2019-12-05T02:09:44"
        ],
        [
         "Azerbaijan",
         5069,
         -63.0063,
         -157.474,
         "2021-03-20T09:32:44"
        ],
        [
         "Bangladesh",
         428,
         -83.4105,
         -150.788,
         "2020-09-27T18:46:41"
        ],
        [
         "Australia",
         7343,
         -65.4428,
         -161.684,
         "2018-08-06T12:17:07"
        ],
        [
         "Bulgaria",
         5494,
         -82.6768,
         -129.202,
         "2021-07-21T02:02:35"
        ],
        [
         "Bulgaria",
         5494,
         -82.6768,
         -129.202,
         "2021-07-21T02:02:35"
        ],
        [
         "Anguilla",
         6063,
         -89.1797,
         -174.015,
         "2021-07-20T09:02:47"
        ],
        [
         "Cambodia",
         3454,
         -0.375174,
         49.8106,
         "2021-07-25T02:20:29"
        ],
        [
         "Jamaica",
         10625,
         -84.4944,
         -81.0613,
         "2018-07-13T11:51:15"
        ],
        [
         "Barbados",
         9875,
         -74.3382,
         -110.484,
         "2020-03-20T13:03:18"
        ],
        [
         "Bulgaria",
         5494,
         -82.6768,
         -129.202,
         "2021-07-21T02:02:35"
        ],
        [
         "Albania",
         7528,
         -89.9787,
         -173.293,
         "2020-08-28T03:52:47"
        ],
        [
         "Armenia",
         2863,
         -5.34445,
         -177.924,
         "2020-04-27T13:34:16"
        ],
        [
         "Colombia",
         5730,
         -77.015,
         -101.437,
         "2021-04-19T17:37:03"
        ],
        [
         "Albania",
         3089,
         -89.9787,
         -173.293,
         "2018-02-28T05:31:29"
        ],
        [
         "Albania",
         7528,
         -89.9787,
         -173.293,
         "2020-08-28T03:52:47"
        ],
        [
         "Armenia",
         2863,
         -5.34445,
         -177.924,
         "2020-04-27T13:34:16"
        ],
        [
         "Colombia",
         5730,
         -77.015,
         -101.437,
         "2021-04-19T17:37:03"
        ],
        [
         "Albania",
         3089,
         -89.9787,
         -173.293,
         "2018-02-28T05:31:29"
        ],
        [
         "Austria",
         10138,
         -72.142,
         -74.3545,
         "2019-08-03T00:59:29"
        ],
        [
         "Albania",
         7528,
         -89.9787,
         -173.293,
         "2020-08-28T03:52:47"
        ],
        [
         "Armenia",
         2863,
         -5.34445,
         -177.924,
         "2020-04-27T13:34:16"
        ],
        [
         "Colombia",
         5730,
         -77.015,
         -101.437,
         "2021-04-19T17:37:03"
        ],
        [
         "Maldives",
         1313,
         77.0447,
         61.9119,
         "2018-06-26T02:39:25"
        ],
        [
         "Maldives",
         1313,
         77.0447,
         61.9119,
         "2018-06-26T02:39:25"
        ],
        [
         "Angola",
         2959,
         -68.0095,
         -157.227,
         "2019-08-19T08:22:02"
        ],
        [
         "Armenia",
         3156,
         -84.738,
         -160.795,
         "2018-01-13T19:33:49"
        ],
        [
         "Maldives",
         1313,
         77.0447,
         61.9119,
         "2018-06-26T02:39:25"
        ],
        [
         "Sudan",
         7554,
         -51.2172,
         -77.9768,
         "2019-03-20T03:15:07"
        ],
        [
         "Aruba",
         8731,
         -83.104,
         -171.302,
         "2020-07-17T04:39:09"
        ],
        [
         "Aruba",
         8731,
         -83.104,
         -171.302,
         "2020-07-17T04:39:09"
        ],
        [
         "Aruba",
         8731,
         -83.104,
         -171.302,
         "2020-07-17T04:39:09"
        ]
       ],
       "datasetInfos": [],
       "dbfsResultPath": null,
       "isJsonSchema": true,
       "metadata": {},
       "overflow": false,
       "plotOptions": {
        "customPlotOptions": {},
        "displayType": "table",
        "pivotAggregation": null,
        "pivotColumns": null,
        "xColumns": null,
        "yColumns": null
       },
       "removedWidgets": [],
       "schema": [
        {
         "metadata": "{}",
         "name": "country",
         "type": "\"string\""
        },
        {
         "metadata": "{}",
         "name": "ind",
         "type": "\"long\""
        },
        {
         "metadata": "{}",
         "name": "latitude",
         "type": "\"double\""
        },
        {
         "metadata": "{}",
         "name": "longitude",
         "type": "\"double\""
        },
        {
         "metadata": "{}",
         "name": "timestamp",
         "type": "\"string\""
        }
       ],
       "type": "table"
      }
     },
     "output_type": "display_data"
    },
    {
     "output_type": "display_data",
     "data": {
      "text/html": [
       "<style scoped>\n",
       "  .table-result-container {\n",
       "    max-height: 300px;\n",
       "    overflow: auto;\n",
       "  }\n",
       "  table, th, td {\n",
       "    border: 1px solid black;\n",
       "    border-collapse: collapse;\n",
       "  }\n",
       "  th, td {\n",
       "    padding: 5px;\n",
       "  }\n",
       "  th {\n",
       "    text-align: left;\n",
       "  }\n",
       "</style><div class='table-result-container'><table class='table-result'><thead style='background-color: white'><tr><th>age</th><th>date_joined</th><th>first_name</th><th>ind</th><th>last_name</th></tr></thead><tbody><tr><td>21</td><td>2015-11-10T09:27:42</td><td>Andrea</td><td>8731</td><td>Alexander</td></tr><tr><td>21</td><td>2015-11-10T09:27:42</td><td>Andrea</td><td>8731</td><td>Alexander</td></tr><tr><td>21</td><td>2015-11-10T09:27:42</td><td>Andrea</td><td>8731</td><td>Alexander</td></tr><tr><td>36</td><td>2015-12-20T16:38:13</td><td>Michelle</td><td>4315</td><td>Prince</td></tr><tr><td>36</td><td>2015-12-20T16:38:13</td><td>Michelle</td><td>4315</td><td>Prince</td></tr><tr><td>32</td><td>2017-10-10T20:09:33</td><td>Christian</td><td>10625</td><td>Lang</td></tr><tr><td>36</td><td>2015-12-20T16:38:13</td><td>Michelle</td><td>4315</td><td>Prince</td></tr><tr><td>32</td><td>2016-04-02T03:51:23</td><td>Brittany</td><td>1313</td><td>Jones</td></tr><tr><td>34</td><td>2016-12-22T00:02:02</td><td>Thomas</td><td>10794</td><td>Turner</td></tr><tr><td>32</td><td>2016-04-02T03:51:23</td><td>Brittany</td><td>1313</td><td>Jones</td></tr><tr><td>34</td><td>2016-12-22T00:02:02</td><td>Thomas</td><td>10794</td><td>Turner</td></tr><tr><td>20</td><td>2016-01-07T19:49:22</td><td>David</td><td>2959</td><td>Griffith</td></tr><tr><td>26</td><td>2015-12-20T10:28:00</td><td>Brendan</td><td>9875</td><td>Joseph</td></tr><tr><td>21</td><td>2016-01-03T15:42:12</td><td>Annette</td><td>2074</td><td>Forbes</td></tr><tr><td>32</td><td>2016-04-02T03:51:23</td><td>Brittany</td><td>1313</td><td>Jones</td></tr><tr><td>34</td><td>2016-12-22T00:02:02</td><td>Thomas</td><td>10794</td><td>Turner</td></tr><tr><td>25</td><td>2015-12-28T04:21:39</td><td>Charles</td><td>8304</td><td>Berry</td></tr><tr><td>25</td><td>2015-12-28T04:21:39</td><td>Charles</td><td>8304</td><td>Berry</td></tr><tr><td>23</td><td>2015-11-25T13:36:22</td><td>Corey</td><td>6063</td><td>Andrews</td></tr><tr><td>48</td><td>2017-09-26T16:31:56</td><td>Robert</td><td>3454</td><td>Murphy</td></tr><tr><td>20</td><td>2017-04-11T16:35:33</td><td>Cheryl</td><td>7554</td><td>Huerta</td></tr><tr><td>30</td><td>2015-12-25T20:24:37</td><td>Emily</td><td>6145</td><td>Hawkins</td></tr><tr><td>31</td><td>2016-11-09T19:50:51</td><td>Kaylee</td><td>9979</td><td>Miller</td></tr><tr><td>25</td><td>2015-12-28T04:21:39</td><td>Charles</td><td>8304</td><td>Berry</td></tr><tr><td>32</td><td>2016-10-23T14:06:51</td><td>Dylan</td><td>2863</td><td>Holmes</td></tr><tr><td>36</td><td>2015-12-08T20:02:43</td><td>Rachel</td><td>5730</td><td>Davis</td></tr><tr><td>26</td><td>2015-11-11T03:20:57</td><td>Brian</td><td>2923</td><td>Nelson</td></tr><tr><td>32</td><td>2016-10-23T14:06:51</td><td>Dylan</td><td>2863</td><td>Holmes</td></tr><tr><td>36</td><td>2015-12-08T20:02:43</td><td>Rachel</td><td>5730</td><td>Davis</td></tr><tr><td>26</td><td>2015-11-11T03:20:57</td><td>Brian</td><td>2923</td><td>Nelson</td></tr><tr><td>20</td><td>2015-10-21T08:27:36</td><td>Amanda</td><td>2418</td><td>Adams</td></tr><tr><td>22</td><td>2015-12-21T08:06:54</td><td>Andrew</td><td>3156</td><td>Baker</td></tr><tr><td>20</td><td>2015-11-28T02:20:29</td><td>Claudia</td><td>428</td><td>Adams</td></tr><tr><td>24</td><td>2016-01-11T12:03:48</td><td>Anne</td><td>7343</td><td>Clayton</td></tr><tr><td>22</td><td>2015-12-31T14:57:02</td><td>Carol</td><td>10138</td><td>Silva</td></tr><tr><td>32</td><td>2016-10-23T14:06:51</td><td>Dylan</td><td>2863</td><td>Holmes</td></tr><tr><td>36</td><td>2015-12-08T20:02:43</td><td>Rachel</td><td>5730</td><td>Davis</td></tr><tr><td>20</td><td>2015-10-24T11:23:51</td><td>Abigail</td><td>7528</td><td>Ali</td></tr><tr><td>25</td><td>2016-01-13T17:36:30</td><td>Amanda</td><td>5069</td><td>Ball</td></tr><tr><td>20</td><td>2015-10-24T11:23:51</td><td>Abigail</td><td>7528</td><td>Ali</td></tr><tr><td>25</td><td>2016-01-13T17:36:30</td><td>Amanda</td><td>5069</td><td>Ball</td></tr><tr><td>20</td><td>2015-10-24T11:23:51</td><td>Abigail</td><td>3089</td><td>Ali</td></tr><tr><td>20</td><td>2015-10-24T11:23:51</td><td>Abigail</td><td>7528</td><td>Ali</td></tr><tr><td>25</td><td>2016-01-13T17:36:30</td><td>Amanda</td><td>5069</td><td>Ball</td></tr><tr><td>27</td><td>2015-12-16T15:20:05</td><td>Anne</td><td>5494</td><td>Allen</td></tr><tr><td>27</td><td>2015-12-16T15:20:05</td><td>Anne</td><td>5494</td><td>Allen</td></tr><tr><td>27</td><td>2015-12-16T15:20:05</td><td>Anne</td><td>5494</td><td>Allen</td></tr></tbody></table></div>"
      ]
     },
     "metadata": {
      "application/vnd.databricks.v1+output": {
       "addedWidgets": {},
       "aggData": [],
       "aggError": "",
       "aggOverflow": false,
       "aggSchema": [],
       "aggSeriesLimitReached": false,
       "aggType": "",
       "arguments": {},
       "columnCustomDisplayInfos": {},
       "data": [
        [
         21,
         "2015-11-10T09:27:42",
         "Andrea",
         8731,
         "Alexander"
        ],
        [
         21,
         "2015-11-10T09:27:42",
         "Andrea",
         8731,
         "Alexander"
        ],
        [
         21,
         "2015-11-10T09:27:42",
         "Andrea",
         8731,
         "Alexander"
        ],
        [
         36,
         "2015-12-20T16:38:13",
         "Michelle",
         4315,
         "Prince"
        ],
        [
         36,
         "2015-12-20T16:38:13",
         "Michelle",
         4315,
         "Prince"
        ],
        [
         32,
         "2017-10-10T20:09:33",
         "Christian",
         10625,
         "Lang"
        ],
        [
         36,
         "2015-12-20T16:38:13",
         "Michelle",
         4315,
         "Prince"
        ],
        [
         32,
         "2016-04-02T03:51:23",
         "Brittany",
         1313,
         "Jones"
        ],
        [
         34,
         "2016-12-22T00:02:02",
         "Thomas",
         10794,
         "Turner"
        ],
        [
         32,
         "2016-04-02T03:51:23",
         "Brittany",
         1313,
         "Jones"
        ],
        [
         34,
         "2016-12-22T00:02:02",
         "Thomas",
         10794,
         "Turner"
        ],
        [
         20,
         "2016-01-07T19:49:22",
         "David",
         2959,
         "Griffith"
        ],
        [
         26,
         "2015-12-20T10:28:00",
         "Brendan",
         9875,
         "Joseph"
        ],
        [
         21,
         "2016-01-03T15:42:12",
         "Annette",
         2074,
         "Forbes"
        ],
        [
         32,
         "2016-04-02T03:51:23",
         "Brittany",
         1313,
         "Jones"
        ],
        [
         34,
         "2016-12-22T00:02:02",
         "Thomas",
         10794,
         "Turner"
        ],
        [
         25,
         "2015-12-28T04:21:39",
         "Charles",
         8304,
         "Berry"
        ],
        [
         25,
         "2015-12-28T04:21:39",
         "Charles",
         8304,
         "Berry"
        ],
        [
         23,
         "2015-11-25T13:36:22",
         "Corey",
         6063,
         "Andrews"
        ],
        [
         48,
         "2017-09-26T16:31:56",
         "Robert",
         3454,
         "Murphy"
        ],
        [
         20,
         "2017-04-11T16:35:33",
         "Cheryl",
         7554,
         "Huerta"
        ],
        [
         30,
         "2015-12-25T20:24:37",
         "Emily",
         6145,
         "Hawkins"
        ],
        [
         31,
         "2016-11-09T19:50:51",
         "Kaylee",
         9979,
         "Miller"
        ],
        [
         25,
         "2015-12-28T04:21:39",
         "Charles",
         8304,
         "Berry"
        ],
        [
         32,
         "2016-10-23T14:06:51",
         "Dylan",
         2863,
         "Holmes"
        ],
        [
         36,
         "2015-12-08T20:02:43",
         "Rachel",
         5730,
         "Davis"
        ],
        [
         26,
         "2015-11-11T03:20:57",
         "Brian",
         2923,
         "Nelson"
        ],
        [
         32,
         "2016-10-23T14:06:51",
         "Dylan",
         2863,
         "Holmes"
        ],
        [
         36,
         "2015-12-08T20:02:43",
         "Rachel",
         5730,
         "Davis"
        ],
        [
         26,
         "2015-11-11T03:20:57",
         "Brian",
         2923,
         "Nelson"
        ],
        [
         20,
         "2015-10-21T08:27:36",
         "Amanda",
         2418,
         "Adams"
        ],
        [
         22,
         "2015-12-21T08:06:54",
         "Andrew",
         3156,
         "Baker"
        ],
        [
         20,
         "2015-11-28T02:20:29",
         "Claudia",
         428,
         "Adams"
        ],
        [
         24,
         "2016-01-11T12:03:48",
         "Anne",
         7343,
         "Clayton"
        ],
        [
         22,
         "2015-12-31T14:57:02",
         "Carol",
         10138,
         "Silva"
        ],
        [
         32,
         "2016-10-23T14:06:51",
         "Dylan",
         2863,
         "Holmes"
        ],
        [
         36,
         "2015-12-08T20:02:43",
         "Rachel",
         5730,
         "Davis"
        ],
        [
         20,
         "2015-10-24T11:23:51",
         "Abigail",
         7528,
         "Ali"
        ],
        [
         25,
         "2016-01-13T17:36:30",
         "Amanda",
         5069,
         "Ball"
        ],
        [
         20,
         "2015-10-24T11:23:51",
         "Abigail",
         7528,
         "Ali"
        ],
        [
         25,
         "2016-01-13T17:36:30",
         "Amanda",
         5069,
         "Ball"
        ],
        [
         20,
         "2015-10-24T11:23:51",
         "Abigail",
         3089,
         "Ali"
        ],
        [
         20,
         "2015-10-24T11:23:51",
         "Abigail",
         7528,
         "Ali"
        ],
        [
         25,
         "2016-01-13T17:36:30",
         "Amanda",
         5069,
         "Ball"
        ],
        [
         27,
         "2015-12-16T15:20:05",
         "Anne",
         5494,
         "Allen"
        ],
        [
         27,
         "2015-12-16T15:20:05",
         "Anne",
         5494,
         "Allen"
        ],
        [
         27,
         "2015-12-16T15:20:05",
         "Anne",
         5494,
         "Allen"
        ]
       ],
       "datasetInfos": [],
       "dbfsResultPath": null,
       "isJsonSchema": true,
       "metadata": {},
       "overflow": false,
       "plotOptions": {
        "customPlotOptions": {},
        "displayType": "table",
        "pivotAggregation": null,
        "pivotColumns": null,
        "xColumns": null,
        "yColumns": null
       },
       "removedWidgets": [],
       "schema": [
        {
         "metadata": "{}",
         "name": "age",
         "type": "\"long\""
        },
        {
         "metadata": "{}",
         "name": "date_joined",
         "type": "\"string\""
        },
        {
         "metadata": "{}",
         "name": "first_name",
         "type": "\"string\""
        },
        {
         "metadata": "{}",
         "name": "ind",
         "type": "\"long\""
        },
        {
         "metadata": "{}",
         "name": "last_name",
         "type": "\"string\""
        }
       ],
       "type": "table"
      }
     },
     "output_type": "display_data"
    }
   ],
   "source": [
    "# File location and type\n",
    "# Asterisk(*) indicates reading all the content of the specified file that have .json extension\n",
    "file_location_1 = \"/mnt/saiful_bucket/topics/1279c94681db.pin/partition=0/*.json\"\n",
    "file_location_2 = \"/mnt/saiful_bucket/topics/1279c94681db.geo/partition=0/*.json\"\n",
    "file_location_3 = \"/mnt/saiful_bucket/topics/1279c94681db.user/partition=0/*.json\"\n",
    "file_type = \"json\"\n",
    "# Ask Spark to infer the schema\n",
    "infer_schema = \"true\"\n",
    "# Read in JSONs from mounted S3 bucket\n",
    "df_pin = spark.read.format(file_type) \\\n",
    ".option(\"inferSchema\", infer_schema) \\\n",
    ".load(file_location_1)\n",
    "df_geo = spark.read.format(file_type) \\\n",
    ".option(\"inferSchema\", infer_schema) \\\n",
    ".load(file_location_2)\n",
    "df_user = spark.read.format(file_type) \\\n",
    ".option(\"inferSchema\", infer_schema) \\\n",
    ".load(file_location_3)\n",
    "# Display Spark dataframe to check its content\n",
    "display(df_pin)\n",
    "display(df_geo)\n",
    "display(df_user)"
   ]
  },
  {
   "cell_type": "code",
   "execution_count": 0,
   "metadata": {
    "application/vnd.databricks.v1+cell": {
     "cellMetadata": {},
     "inputWidgets": {},
     "nuid": "c6a5e18b-0798-4f90-b93e-bc0ee449b7d6",
     "showTitle": false,
     "title": ""
    }
   },
   "outputs": [],
   "source": []
  }
 ],
 "metadata": {
  "application/vnd.databricks.v1+notebook": {
   "dashboards": [],
   "language": "python",
   "notebookMetadata": {
    "mostRecentlyExecutedCommandWithImplicitDF": {
     "commandId": 3819816579781018,
     "dataframes": [
      "_sqldf"
     ]
    },
    "pythonIndentUnit": 4
   },
   "notebookName": "Mount_S3_Bucket",
   "widgets": {}
  }
 },
 "nbformat": 4,
 "nbformat_minor": 0
}
